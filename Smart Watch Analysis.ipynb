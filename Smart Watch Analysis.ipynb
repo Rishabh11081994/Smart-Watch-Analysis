{
 "cells": [
  {
   "cell_type": "markdown",
   "id": "6ed0755f",
   "metadata": {},
   "source": [
    "# Analysis of Smart Watches"
   ]
  },
  {
   "cell_type": "markdown",
   "id": "ff79c5c1",
   "metadata": {},
   "source": [
    "Data: Here the data is taken from where the Kaggle and assumption is made that the there is no doubt about the integrity of the \n",
    "that has been shared.\n",
    "\n",
    "Problem Statement: The focus is to analyse the data and explore it to provide insights which is critical for the stakholders in decision making\n",
    "\n",
    "Note: When providing insights using hypothesis test like Annova , spearman, kruskal etc we used 0.05 level of significance as benchmark in our  inferencial analysis."
   ]
  },
  {
   "cell_type": "markdown",
   "id": "9701e661",
   "metadata": {},
   "source": [
    "### Import libraries"
   ]
  },
  {
   "cell_type": "code",
   "execution_count": null,
   "id": "ed9238dd",
   "metadata": {},
   "outputs": [],
   "source": [
    "import pandas as pd\n",
    "import numpy as np\n",
    "import seaborn as sns\n",
    "import matplotlib.pyplot as plt\n",
    "import seaborn as sns\n",
    "\n",
    "from sklearn.impute import SimpleImputer\n",
    "import plotly.express as px\n",
    "\n",
    "#!pip install scikit_posthocs\n",
    "\n",
    "from scipy import stats\n",
    "import statsmodels.api as sm\n",
    "from statsmodels.formula.api import ols\n",
    "from statsmodels.stats.anova import anova_lm\n",
    "import scikit_posthocs"
   ]
  },
  {
   "cell_type": "markdown",
   "id": "799bad0b",
   "metadata": {},
   "source": [
    "### Methodology"
   ]
  },
  {
   "cell_type": "markdown",
   "id": "944509ac",
   "metadata": {},
   "source": [
    "The object was to find the feature which impacts the rating of smart watches so that stackholder can take better decision like \n",
    "which brands are popular?, IS there any link with dial shape and ratings etc.\n",
    "\n",
    "First the data was cleaned. Later, it was analyzed thoroughly using descriptive analysis, data visualization and hypothesis testing."
   ]
  },
  {
   "cell_type": "markdown",
   "id": "4cd6f2cd",
   "metadata": {},
   "source": [
    "### Read data"
   ]
  },
  {
   "cell_type": "code",
   "execution_count": 220,
   "id": "98898a99",
   "metadata": {},
   "outputs": [
    {
     "data": {
      "text/html": [
       "<div>\n",
       "<style scoped>\n",
       "    .dataframe tbody tr th:only-of-type {\n",
       "        vertical-align: middle;\n",
       "    }\n",
       "\n",
       "    .dataframe tbody tr th {\n",
       "        vertical-align: top;\n",
       "    }\n",
       "\n",
       "    .dataframe thead th {\n",
       "        text-align: right;\n",
       "    }\n",
       "</style>\n",
       "<table border=\"1\" class=\"dataframe\">\n",
       "  <thead>\n",
       "    <tr style=\"text-align: right;\">\n",
       "      <th></th>\n",
       "      <th>Serial Number</th>\n",
       "      <th>Brand</th>\n",
       "      <th>Current Price</th>\n",
       "      <th>Original Price</th>\n",
       "      <th>Discount Percentage</th>\n",
       "      <th>Rating</th>\n",
       "      <th>Number OF Ratings</th>\n",
       "      <th>Model Name</th>\n",
       "      <th>Dial Shape</th>\n",
       "      <th>Strap Color</th>\n",
       "      <th>Strap Material</th>\n",
       "      <th>Touchscreen</th>\n",
       "      <th>Battery Life (Days)</th>\n",
       "      <th>Bluetooth</th>\n",
       "      <th>Display Size</th>\n",
       "      <th>Weight</th>\n",
       "    </tr>\n",
       "  </thead>\n",
       "  <tbody>\n",
       "    <tr>\n",
       "      <th>0</th>\n",
       "      <td>0</td>\n",
       "      <td>noise</td>\n",
       "      <td>82990.0</td>\n",
       "      <td>89900.0</td>\n",
       "      <td>7.686318</td>\n",
       "      <td>4.0</td>\n",
       "      <td>65.0</td>\n",
       "      <td>Wrb-sw-colorfitpro4alpha-std-rgld_pnk</td>\n",
       "      <td>NaN</td>\n",
       "      <td>NaN</td>\n",
       "      <td>NaN</td>\n",
       "      <td>NaN</td>\n",
       "      <td>8.0</td>\n",
       "      <td>Yes</td>\n",
       "      <td>NaN</td>\n",
       "      <td>35 - 50 g</td>\n",
       "    </tr>\n",
       "    <tr>\n",
       "      <th>1</th>\n",
       "      <td>1</td>\n",
       "      <td>fire-boltt</td>\n",
       "      <td>3799.0</td>\n",
       "      <td>16999.0</td>\n",
       "      <td>77.651627</td>\n",
       "      <td>4.3</td>\n",
       "      <td>20788.0</td>\n",
       "      <td>BSW046</td>\n",
       "      <td>NaN</td>\n",
       "      <td>NaN</td>\n",
       "      <td>Silicon</td>\n",
       "      <td>Yes</td>\n",
       "      <td>3.5</td>\n",
       "      <td>Yes</td>\n",
       "      <td>1.8 inches</td>\n",
       "      <td>50 - 75 g</td>\n",
       "    </tr>\n",
       "    <tr>\n",
       "      <th>2</th>\n",
       "      <td>2</td>\n",
       "      <td>boat</td>\n",
       "      <td>1999.0</td>\n",
       "      <td>7990.0</td>\n",
       "      <td>74.981227</td>\n",
       "      <td>3.8</td>\n",
       "      <td>21724.0</td>\n",
       "      <td>Wave Call</td>\n",
       "      <td>NaN</td>\n",
       "      <td>NaN</td>\n",
       "      <td>Silicon</td>\n",
       "      <td>Yes</td>\n",
       "      <td>8.0</td>\n",
       "      <td>Yes</td>\n",
       "      <td>1.7 inches</td>\n",
       "      <td>35 - 50 g</td>\n",
       "    </tr>\n",
       "    <tr>\n",
       "      <th>3</th>\n",
       "      <td>3</td>\n",
       "      <td>fire-boltt</td>\n",
       "      <td>1799.0</td>\n",
       "      <td>19999.0</td>\n",
       "      <td>91.004550</td>\n",
       "      <td>4.3</td>\n",
       "      <td>13244.0</td>\n",
       "      <td>BSW053</td>\n",
       "      <td>NaN</td>\n",
       "      <td>NaN</td>\n",
       "      <td>Silicon</td>\n",
       "      <td>Yes</td>\n",
       "      <td>3.5</td>\n",
       "      <td>Yes</td>\n",
       "      <td>1.8 inches</td>\n",
       "      <td>75g +</td>\n",
       "    </tr>\n",
       "    <tr>\n",
       "      <th>4</th>\n",
       "      <td>4</td>\n",
       "      <td>noise</td>\n",
       "      <td>1599.0</td>\n",
       "      <td>4999.0</td>\n",
       "      <td>68.013603</td>\n",
       "      <td>4.1</td>\n",
       "      <td>13901.0</td>\n",
       "      <td>Wrb-sw-colorfitpulsegobuzz-std-blk_blk</td>\n",
       "      <td>NaN</td>\n",
       "      <td>NaN</td>\n",
       "      <td>Other</td>\n",
       "      <td>Yes</td>\n",
       "      <td>8.0</td>\n",
       "      <td>Yes</td>\n",
       "      <td>1.7 inches</td>\n",
       "      <td>35 - 50 g</td>\n",
       "    </tr>\n",
       "  </tbody>\n",
       "</table>\n",
       "</div>"
      ],
      "text/plain": [
       "   Serial Number       Brand  Current Price  Original Price  \\\n",
       "0              0       noise        82990.0         89900.0   \n",
       "1              1  fire-boltt         3799.0         16999.0   \n",
       "2              2        boat         1999.0          7990.0   \n",
       "3              3  fire-boltt         1799.0         19999.0   \n",
       "4              4       noise         1599.0          4999.0   \n",
       "\n",
       "   Discount Percentage  Rating  Number OF Ratings  \\\n",
       "0             7.686318     4.0               65.0   \n",
       "1            77.651627     4.3            20788.0   \n",
       "2            74.981227     3.8            21724.0   \n",
       "3            91.004550     4.3            13244.0   \n",
       "4            68.013603     4.1            13901.0   \n",
       "\n",
       "                               Model Name Dial Shape Strap Color  \\\n",
       "0   Wrb-sw-colorfitpro4alpha-std-rgld_pnk        NaN         NaN   \n",
       "1                                  BSW046        NaN         NaN   \n",
       "2                               Wave Call        NaN         NaN   \n",
       "3                                  BSW053        NaN         NaN   \n",
       "4  Wrb-sw-colorfitpulsegobuzz-std-blk_blk        NaN         NaN   \n",
       "\n",
       "  Strap Material Touchscreen  Battery Life (Days) Bluetooth Display Size  \\\n",
       "0            NaN         NaN                  8.0       Yes          NaN   \n",
       "1        Silicon         Yes                  3.5       Yes   1.8 inches   \n",
       "2        Silicon         Yes                  8.0       Yes   1.7 inches   \n",
       "3        Silicon         Yes                  3.5       Yes   1.8 inches   \n",
       "4          Other         Yes                  8.0       Yes   1.7 inches   \n",
       "\n",
       "      Weight  \n",
       "0  35 - 50 g  \n",
       "1  50 - 75 g  \n",
       "2  35 - 50 g  \n",
       "3      75g +  \n",
       "4  35 - 50 g  "
      ]
     },
     "execution_count": 220,
     "metadata": {},
     "output_type": "execute_result"
    }
   ],
   "source": [
    "data = pd.read_csv('smartwatches.csv')\n",
    "data.head()"
   ]
  },
  {
   "cell_type": "markdown",
   "id": "ad43ed3b",
   "metadata": {},
   "source": [
    " ## Descriptive Analysis"
   ]
  },
  {
   "cell_type": "code",
   "execution_count": 221,
   "id": "3616b462",
   "metadata": {},
   "outputs": [
    {
     "name": "stdout",
     "output_type": "stream",
     "text": [
      "Total rows in the data are 450. The number of columns are 16\n"
     ]
    }
   ],
   "source": [
    "rows, cols = data.shape\n",
    "print(f\"Total rows in the data are {rows}. The number of columns are {cols}\")"
   ]
  },
  {
   "cell_type": "code",
   "execution_count": 222,
   "id": "39ba5205",
   "metadata": {},
   "outputs": [
    {
     "data": {
      "text/plain": [
       "Serial Number            int64\n",
       "Brand                   object\n",
       "Current Price          float64\n",
       "Original Price         float64\n",
       "Discount Percentage    float64\n",
       "Rating                 float64\n",
       "Number OF Ratings      float64\n",
       "Model Name              object\n",
       "Dial Shape              object\n",
       "Strap Color             object\n",
       "Strap Material          object\n",
       "Touchscreen             object\n",
       "Battery Life (Days)    float64\n",
       "Bluetooth               object\n",
       "Display Size            object\n",
       "Weight                  object\n",
       "dtype: object"
      ]
     },
     "execution_count": 222,
     "metadata": {},
     "output_type": "execute_result"
    }
   ],
   "source": [
    "data.dtypes # checking the data types of each column"
   ]
  },
  {
   "cell_type": "code",
   "execution_count": 223,
   "id": "b7f11370",
   "metadata": {},
   "outputs": [
    {
     "name": "stdout",
     "output_type": "stream",
     "text": [
      "Categorical columns\n",
      "Brand, Model Name, Dial Shape, Strap Color, Strap Material, Touchscreen, Bluetooth, Display Size, Weight, \n",
      "\n",
      "Numerical columns\n",
      "Serial Number, Current Price, Original Price, Discount Percentage, Rating, Number OF Ratings, Battery Life (Days), "
     ]
    }
   ],
   "source": [
    "print('Categorical columns')\n",
    "for col in data.select_dtypes(include=object).columns: \n",
    "    print(col,end=', ')\n",
    "print('\\n')\n",
    "print('Numerical columns')\n",
    "for col in data.select_dtypes(exclude=object).columns: \n",
    "    print(col,end=', ')"
   ]
  },
  {
   "cell_type": "code",
   "execution_count": 9,
   "id": "302ae5bb",
   "metadata": {},
   "outputs": [
    {
     "name": "stdout",
     "output_type": "stream",
     "text": [
      "Five point summay for numerical variables\n"
     ]
    },
    {
     "data": {
      "text/html": [
       "<div>\n",
       "<style scoped>\n",
       "    .dataframe tbody tr th:only-of-type {\n",
       "        vertical-align: middle;\n",
       "    }\n",
       "\n",
       "    .dataframe tbody tr th {\n",
       "        vertical-align: top;\n",
       "    }\n",
       "\n",
       "    .dataframe thead th {\n",
       "        text-align: right;\n",
       "    }\n",
       "</style>\n",
       "<table border=\"1\" class=\"dataframe\">\n",
       "  <thead>\n",
       "    <tr style=\"text-align: right;\">\n",
       "      <th></th>\n",
       "      <th>Current Price</th>\n",
       "      <th>Original Price</th>\n",
       "      <th>Discount Percentage</th>\n",
       "      <th>Rating</th>\n",
       "      <th>Number OF Ratings</th>\n",
       "      <th>Battery Life (Days)</th>\n",
       "    </tr>\n",
       "  </thead>\n",
       "  <tbody>\n",
       "    <tr>\n",
       "      <th>count</th>\n",
       "      <td>440.000000</td>\n",
       "      <td>377.000000</td>\n",
       "      <td>377.000000</td>\n",
       "      <td>444.000000</td>\n",
       "      <td>391.000000</td>\n",
       "      <td>418.000000</td>\n",
       "    </tr>\n",
       "    <tr>\n",
       "      <th>mean</th>\n",
       "      <td>12747.554545</td>\n",
       "      <td>14598.204244</td>\n",
       "      <td>48.236894</td>\n",
       "      <td>4.031306</td>\n",
       "      <td>11594.726343</td>\n",
       "      <td>14.077392</td>\n",
       "    </tr>\n",
       "    <tr>\n",
       "      <th>std</th>\n",
       "      <td>17760.666099</td>\n",
       "      <td>15450.028869</td>\n",
       "      <td>24.109830</td>\n",
       "      <td>0.550548</td>\n",
       "      <td>40423.889227</td>\n",
       "      <td>7.718503</td>\n",
       "    </tr>\n",
       "    <tr>\n",
       "      <th>min</th>\n",
       "      <td>1199.000000</td>\n",
       "      <td>1669.000000</td>\n",
       "      <td>-79.688436</td>\n",
       "      <td>1.000000</td>\n",
       "      <td>1.000000</td>\n",
       "      <td>0.750000</td>\n",
       "    </tr>\n",
       "    <tr>\n",
       "      <th>25%</th>\n",
       "      <td>2180.750000</td>\n",
       "      <td>5999.000000</td>\n",
       "      <td>33.337037</td>\n",
       "      <td>3.900000</td>\n",
       "      <td>68.500000</td>\n",
       "      <td>8.000000</td>\n",
       "    </tr>\n",
       "    <tr>\n",
       "      <th>50%</th>\n",
       "      <td>3999.000000</td>\n",
       "      <td>7999.000000</td>\n",
       "      <td>54.550414</td>\n",
       "      <td>4.100000</td>\n",
       "      <td>996.000000</td>\n",
       "      <td>17.500000</td>\n",
       "    </tr>\n",
       "    <tr>\n",
       "      <th>75%</th>\n",
       "      <td>17121.750000</td>\n",
       "      <td>17999.000000</td>\n",
       "      <td>66.677780</td>\n",
       "      <td>4.300000</td>\n",
       "      <td>6022.000000</td>\n",
       "      <td>22.000000</td>\n",
       "    </tr>\n",
       "    <tr>\n",
       "      <th>max</th>\n",
       "      <td>139990.000000</td>\n",
       "      <td>96390.000000</td>\n",
       "      <td>91.004550</td>\n",
       "      <td>5.000000</td>\n",
       "      <td>619130.000000</td>\n",
       "      <td>22.000000</td>\n",
       "    </tr>\n",
       "  </tbody>\n",
       "</table>\n",
       "</div>"
      ],
      "text/plain": [
       "       Current Price  Original Price  Discount Percentage      Rating  \\\n",
       "count     440.000000      377.000000           377.000000  444.000000   \n",
       "mean    12747.554545    14598.204244            48.236894    4.031306   \n",
       "std     17760.666099    15450.028869            24.109830    0.550548   \n",
       "min      1199.000000     1669.000000           -79.688436    1.000000   \n",
       "25%      2180.750000     5999.000000            33.337037    3.900000   \n",
       "50%      3999.000000     7999.000000            54.550414    4.100000   \n",
       "75%     17121.750000    17999.000000            66.677780    4.300000   \n",
       "max    139990.000000    96390.000000            91.004550    5.000000   \n",
       "\n",
       "       Number OF Ratings  Battery Life (Days)  \n",
       "count         391.000000           418.000000  \n",
       "mean        11594.726343            14.077392  \n",
       "std         40423.889227             7.718503  \n",
       "min             1.000000             0.750000  \n",
       "25%            68.500000             8.000000  \n",
       "50%           996.000000            17.500000  \n",
       "75%          6022.000000            22.000000  \n",
       "max        619130.000000            22.000000  "
      ]
     },
     "execution_count": 9,
     "metadata": {},
     "output_type": "execute_result"
    }
   ],
   "source": [
    "print('Five point summay for numerical variables')\n",
    "data.drop(['Serial Number'],axis=1).describe()"
   ]
  },
  {
   "cell_type": "markdown",
   "id": "531c25a2",
   "metadata": {},
   "source": [
    "The mean and median for the rating and battery life is not similar , it idicate that the these feature does seem normally distributed"
   ]
  },
  {
   "cell_type": "code",
   "execution_count": 10,
   "id": "294b312a",
   "metadata": {},
   "outputs": [
    {
     "name": "stdout",
     "output_type": "stream",
     "text": [
      "Five point summay for categorical variables\n"
     ]
    },
    {
     "data": {
      "text/html": [
       "<div>\n",
       "<style scoped>\n",
       "    .dataframe tbody tr th:only-of-type {\n",
       "        vertical-align: middle;\n",
       "    }\n",
       "\n",
       "    .dataframe tbody tr th {\n",
       "        vertical-align: top;\n",
       "    }\n",
       "\n",
       "    .dataframe thead th {\n",
       "        text-align: right;\n",
       "    }\n",
       "</style>\n",
       "<table border=\"1\" class=\"dataframe\">\n",
       "  <thead>\n",
       "    <tr style=\"text-align: right;\">\n",
       "      <th></th>\n",
       "      <th>Brand</th>\n",
       "      <th>Model Name</th>\n",
       "      <th>Dial Shape</th>\n",
       "      <th>Strap Color</th>\n",
       "      <th>Strap Material</th>\n",
       "      <th>Touchscreen</th>\n",
       "      <th>Bluetooth</th>\n",
       "      <th>Display Size</th>\n",
       "      <th>Weight</th>\n",
       "    </tr>\n",
       "  </thead>\n",
       "  <tbody>\n",
       "    <tr>\n",
       "      <th>count</th>\n",
       "      <td>450</td>\n",
       "      <td>415</td>\n",
       "      <td>327</td>\n",
       "      <td>327</td>\n",
       "      <td>381</td>\n",
       "      <td>413</td>\n",
       "      <td>444</td>\n",
       "      <td>420</td>\n",
       "      <td>264</td>\n",
       "    </tr>\n",
       "    <tr>\n",
       "      <th>unique</th>\n",
       "      <td>18</td>\n",
       "      <td>389</td>\n",
       "      <td>6</td>\n",
       "      <td>30</td>\n",
       "      <td>15</td>\n",
       "      <td>2</td>\n",
       "      <td>2</td>\n",
       "      <td>40</td>\n",
       "      <td>5</td>\n",
       "    </tr>\n",
       "    <tr>\n",
       "      <th>top</th>\n",
       "      <td>fire-boltt</td>\n",
       "      <td>beast pro</td>\n",
       "      <td>Circle</td>\n",
       "      <td>Black</td>\n",
       "      <td>Silicon</td>\n",
       "      <td>Yes</td>\n",
       "      <td>Yes</td>\n",
       "      <td>1.7 inches</td>\n",
       "      <td>20 - 35 g</td>\n",
       "    </tr>\n",
       "    <tr>\n",
       "      <th>freq</th>\n",
       "      <td>60</td>\n",
       "      <td>5</td>\n",
       "      <td>131</td>\n",
       "      <td>133</td>\n",
       "      <td>248</td>\n",
       "      <td>389</td>\n",
       "      <td>440</td>\n",
       "      <td>68</td>\n",
       "      <td>80</td>\n",
       "    </tr>\n",
       "  </tbody>\n",
       "</table>\n",
       "</div>"
      ],
      "text/plain": [
       "             Brand Model Name Dial Shape Strap Color Strap Material  \\\n",
       "count          450        415        327         327            381   \n",
       "unique          18        389          6          30             15   \n",
       "top     fire-boltt  beast pro     Circle       Black        Silicon   \n",
       "freq            60          5        131         133            248   \n",
       "\n",
       "       Touchscreen Bluetooth Display Size     Weight  \n",
       "count          413       444          420        264  \n",
       "unique           2         2           40          5  \n",
       "top            Yes       Yes   1.7 inches  20 - 35 g  \n",
       "freq           389       440           68         80  "
      ]
     },
     "execution_count": 10,
     "metadata": {},
     "output_type": "execute_result"
    }
   ],
   "source": [
    "print('Five point summay for categorical variables')\n",
    "data.select_dtypes(include=object).describe()"
   ]
  },
  {
   "cell_type": "code",
   "execution_count": 11,
   "id": "232f7247",
   "metadata": {},
   "outputs": [
    {
     "name": "stdout",
     "output_type": "stream",
     "text": [
      "Types of brand present in the data\n",
      "1 noise\n",
      "2 fire-boltt\n",
      "3 boat\n",
      "4 honor\n",
      "5 crossbeats\n",
      "6 samsung\n",
      "7 garmin\n",
      "8 huawei\n",
      "9 dizo\n",
      "10 gizmore\n",
      "11 ambrane\n",
      "12 zebronics\n",
      "13 pebble\n",
      "14 hammer\n",
      "15 apple\n",
      "16 fitbit\n",
      "17 amazfit\n",
      "18 fossil\n"
     ]
    }
   ],
   "source": [
    "print('Types of brand present in the data')\n",
    "for ind,brand in enumerate(data['Brand'].unique()):\n",
    "    print(ind+1,brand)"
   ]
  },
  {
   "cell_type": "code",
   "execution_count": 12,
   "id": "bc9fc5df",
   "metadata": {},
   "outputs": [
    {
     "name": "stdout",
     "output_type": "stream",
     "text": [
      "Number of model name present in the data = 389\n"
     ]
    }
   ],
   "source": [
    "print(f\"Number of model name present in the data = {data['Model Name'].nunique()}\")"
   ]
  },
  {
   "cell_type": "code",
   "execution_count": 13,
   "id": "9056360d",
   "metadata": {},
   "outputs": [
    {
     "name": "stdout",
     "output_type": "stream",
     "text": [
      "Number of Dial Shape present in the data = 6\n",
      "Types of model present in the data\n",
      "1 nan\n",
      "2 Rectangle\n",
      "3 Square\n",
      "4 Circle\n",
      "5 Curved\n",
      "6 Contemporary\n",
      "7 Oval\n"
     ]
    }
   ],
   "source": [
    "print(f\"Number of Dial Shape present in the data = {data['Dial Shape'].nunique()}\")\n",
    "print('Types of model present in the data')\n",
    "for ind,brand in enumerate(data['Dial Shape'].unique()):\n",
    "    print(ind+1,brand) # here nan is not shape but empty cell"
   ]
  },
  {
   "cell_type": "code",
   "execution_count": 14,
   "id": "1d2bfbb6",
   "metadata": {},
   "outputs": [
    {
     "name": "stdout",
     "output_type": "stream",
     "text": [
      "Number of Strap Color present in the data = 30\n",
      "Types of model present in the data\n",
      "1 nan\n",
      "2 Midnight\n",
      "3 Starlight Sport\n",
      "4 Black\n",
      "5 Pink\n",
      "6 Orange Alpine\n",
      "7 Green\n",
      "8 Gold\n",
      "9 Blue\n",
      "10 Silver\n",
      "11 White\n",
      "12 Grey\n",
      "13 Red\n",
      "14 Purple\n",
      "15 Brown\n",
      "16 Graphite\n",
      "17 Beige\n",
      "18 Morning Glow\n",
      "19 Passion Pink\n",
      "20 Beet Juice\n",
      "21 Charcoal\n",
      "22 White Platinum\n",
      "23 Multicolor\n",
      "24 Misty Rose\n",
      "25 Orange\n",
      "26 Burgundy\n",
      "27 Maroon\n",
      "28 Pink, Gold\n",
      "29 Deep Wine\n",
      "30 Sea Green\n",
      "31 Rose Gold\n"
     ]
    }
   ],
   "source": [
    "print(f\"Number of Strap Color present in the data = {data['Strap Color'].nunique()}\")\n",
    "print('Types of model present in the data')\n",
    "for ind,brand in enumerate(data['Strap Color'].unique()):\n",
    "    print(ind+1,brand) # here nan is empty cell"
   ]
  },
  {
   "cell_type": "code",
   "execution_count": 15,
   "id": "2a7265bb",
   "metadata": {},
   "outputs": [
    {
     "name": "stdout",
     "output_type": "stream",
     "text": [
      "Number of Strap Material present in the data = 15\n",
      "Types of model present in the data\n",
      "1 nan\n",
      "2 Silicon\n",
      "3 Other\n",
      "4 Polycarbonate\n",
      "5 Metal\n",
      "6 Stainless Steel\n",
      "7 Carbon-Fiber;\n",
      "8 Plastic\n",
      "9 Fabric\n",
      "10 Aluminium\n",
      "11 Thermo Plastic Polyurethene\n",
      "12 Synthetic\n",
      "13 Fluoroelastomer\n",
      "14 Leather\n",
      "15 Nylon\n",
      "16 Rubber\n"
     ]
    }
   ],
   "source": [
    "print(f\"Number of Strap Material present in the data = {data['Strap Material'].nunique()}\")\n",
    "print('Types of model present in the data')\n",
    "for ind,brand in enumerate(data['Strap Material'].unique()):\n",
    "    print(ind+1,brand) # here nan is empty cell"
   ]
  },
  {
   "cell_type": "code",
   "execution_count": 16,
   "id": "e43f2c2e",
   "metadata": {},
   "outputs": [
    {
     "name": "stdout",
     "output_type": "stream",
     "text": [
      "Types of TouchScreen present in the data\n",
      "1 nan\n",
      "2 Yes\n",
      "3 No\n"
     ]
    }
   ],
   "source": [
    "print('Types of TouchScreen present in the data')\n",
    "for ind,brand in enumerate(data['Touchscreen'].unique()):\n",
    "    print(ind+1,brand) # here nan is empty cell"
   ]
  },
  {
   "cell_type": "code",
   "execution_count": 17,
   "id": "0104e3a0",
   "metadata": {},
   "outputs": [
    {
     "name": "stdout",
     "output_type": "stream",
     "text": [
      "Types of Bluetooth present in the data\n",
      "1 Yes\n",
      "2 nan\n",
      "3 No\n"
     ]
    }
   ],
   "source": [
    "print('Types of Bluetooth present in the data')\n",
    "for ind,brand in enumerate(data['Bluetooth'].unique()):\n",
    "    print(ind+1,brand) # here nan is empty cell"
   ]
  },
  {
   "cell_type": "code",
   "execution_count": 18,
   "id": "d232910b",
   "metadata": {},
   "outputs": [
    {
     "name": "stdout",
     "output_type": "stream",
     "text": [
      "Types of Display Size present in the data\n",
      "1 nan\n",
      "2 1.8 inches\n",
      "3 1.7 inches\n",
      "4 1.4 inches\n",
      "5 1.9 inches\n",
      "6 1.3 inches\n",
      "7 1.5 inches\n",
      "8 1.2 inches\n",
      "9 4.6 inches\n",
      "10 4.4 inches\n",
      "11 35.9 inches\n",
      "12 30.0 inches\n",
      "13 0.5 inches\n",
      "14 4.3 inches\n",
      "15 1.1 inches\n",
      "16 2.0 inches\n",
      "17 3.5 inches\n",
      "18 4.5 inches\n",
      "19 1.6 inches\n",
      "20 4.0 inches\n",
      "21 1.0 inches\n",
      "22 0.2 inches\n",
      "23 0.6 inches\n",
      "24 15.9 inches\n",
      "25 3.0 inches\n",
      "26 0.1 inches\n",
      "27 33.0 inches\n",
      "28 0.9 inches\n",
      "29 27.9 inches\n",
      "30 18.5 inches\n",
      "31 0.8 inches\n",
      "32 4.2 inches\n",
      "33 45.0 inches\n",
      "34 20.0 inches\n",
      "35 2.1 inches\n",
      "36 0.0 inches\n",
      "37 3.3 inches\n",
      "38 6.9 inches\n",
      "39 2.3 inches\n",
      "40 2.7 inches\n",
      "41 2.4 inches\n"
     ]
    }
   ],
   "source": [
    "print('Types of Display Size present in the data')\n",
    "for ind,brand in enumerate(data['Display Size'].unique()):\n",
    "    print(ind+1,brand) # here nan is empty cell"
   ]
  },
  {
   "cell_type": "code",
   "execution_count": 19,
   "id": "5021a841",
   "metadata": {},
   "outputs": [
    {
     "name": "stdout",
     "output_type": "stream",
     "text": [
      "Types of Weight present in the data\n",
      "1 35 - 50 g\n",
      "2 50 - 75 g\n",
      "3 75g +\n",
      "4 20 - 35 g\n",
      "5 <= 20 g\n",
      "6 nan\n"
     ]
    }
   ],
   "source": [
    "print('Types of Weight present in the data')\n",
    "for ind,brand in enumerate(data['Weight'].unique()):\n",
    "    print(ind+1,brand) # here nan is empty cell"
   ]
  },
  {
   "cell_type": "code",
   "execution_count": 20,
   "id": "60000b57",
   "metadata": {},
   "outputs": [
    {
     "name": "stdout",
     "output_type": "stream",
     "text": [
      "Column's name = Brand, number of value's type = 18\n",
      "Column's name = Model Name, number of value's type = 389\n",
      "Column's name = Dial Shape, number of value's type = 6\n",
      "Column's name = Strap Color, number of value's type = 30\n",
      "Column's name = Strap Material, number of value's type = 15\n",
      "Column's name = Touchscreen, number of value's type = 2\n",
      "Column's name = Bluetooth, number of value's type = 2\n",
      "Column's name = Display Size, number of value's type = 40\n",
      "Column's name = Weight, number of value's type = 5\n"
     ]
    }
   ],
   "source": [
    "for col in data.select_dtypes(include=object).columns: \n",
    "    print(f\"Column's name = {col}, number of value's type = {data[col].nunique()}\")"
   ]
  },
  {
   "cell_type": "markdown",
   "id": "cb1fba9d",
   "metadata": {},
   "source": [
    "There are some variables that require cleaning we need to check these first,later we can carry on with our descriptive analysis\n",
    "\n",
    "For example, the weight and display sizes should be converted into numerical values "
   ]
  },
  {
   "cell_type": "markdown",
   "id": "47f3597f",
   "metadata": {},
   "source": [
    "## Data Cleaning "
   ]
  },
  {
   "cell_type": "code",
   "execution_count": 21,
   "id": "f58f935d",
   "metadata": {},
   "outputs": [
    {
     "name": "stdout",
     "output_type": "stream",
     "text": [
      "Checking the duplicate values\n"
     ]
    },
    {
     "data": {
      "text/plain": [
       "0"
      ]
     },
     "execution_count": 21,
     "metadata": {},
     "output_type": "execute_result"
    }
   ],
   "source": [
    "print(\"Checking the duplicate values\")\n",
    "data.duplicated().sum() "
   ]
  },
  {
   "cell_type": "markdown",
   "id": "66dcb392",
   "metadata": {},
   "source": [
    "There are no duplicated values present in the data"
   ]
  },
  {
   "cell_type": "code",
   "execution_count": 22,
   "id": "07406e80",
   "metadata": {},
   "outputs": [
    {
     "name": "stdout",
     "output_type": "stream",
     "text": [
      "Checking the null values percentage in each feature\n"
     ]
    },
    {
     "data": {
      "text/plain": [
       "Serial Number           0.000000\n",
       "Brand                   0.000000\n",
       "Current Price           2.222222\n",
       "Original Price         16.222222\n",
       "Discount Percentage    16.222222\n",
       "Rating                  1.333333\n",
       "Number OF Ratings      13.111111\n",
       "Model Name              7.777778\n",
       "Dial Shape             27.333333\n",
       "Strap Color            27.333333\n",
       "Strap Material         15.333333\n",
       "Touchscreen             8.222222\n",
       "Battery Life (Days)     7.111111\n",
       "Bluetooth               1.333333\n",
       "Display Size            6.666667\n",
       "Weight                 41.333333\n",
       "dtype: float64"
      ]
     },
     "execution_count": 22,
     "metadata": {},
     "output_type": "execute_result"
    }
   ],
   "source": [
    "print(\"Checking the null values percentage in each feature\")\n",
    "data.isnull().sum()/len(data)*100"
   ]
  },
  {
   "cell_type": "markdown",
   "id": "f3f68661",
   "metadata": {},
   "source": [
    "Null values are present in the data"
   ]
  },
  {
   "cell_type": "markdown",
   "id": "0f3fed2e",
   "metadata": {},
   "source": [
    "### Dealing with nulll values"
   ]
  },
  {
   "cell_type": "code",
   "execution_count": 23,
   "id": "a57757fe",
   "metadata": {},
   "outputs": [],
   "source": [
    "# using imputer to replace the null values\n",
    "ImputerNumeric = SimpleImputer(strategy='median') \n",
    "ImputerCategorical = SimpleImputer(strategy='most_frequent')\n",
    "# here the numerical columns are replaced with median and categorical columns null values with the mode\n",
    "catCol = data.select_dtypes(include=object).columns # categorical columns list\n",
    "NumCol = data.select_dtypes(exclude=object).columns # numerical columns list\n",
    "\n",
    "# Filling null values\n",
    "ImputerNumeric.fit(data[NumCol])\n",
    "ImputerCategorical.fit(data[catCol])\n",
    "numArray =ImputerNumeric.transform(data[NumCol])\n",
    "catArray = ImputerCategorical.transform(data[catCol])"
   ]
  },
  {
   "cell_type": "code",
   "execution_count": 24,
   "id": "8fad33bd",
   "metadata": {},
   "outputs": [
    {
     "data": {
      "text/html": [
       "<div>\n",
       "<style scoped>\n",
       "    .dataframe tbody tr th:only-of-type {\n",
       "        vertical-align: middle;\n",
       "    }\n",
       "\n",
       "    .dataframe tbody tr th {\n",
       "        vertical-align: top;\n",
       "    }\n",
       "\n",
       "    .dataframe thead th {\n",
       "        text-align: right;\n",
       "    }\n",
       "</style>\n",
       "<table border=\"1\" class=\"dataframe\">\n",
       "  <thead>\n",
       "    <tr style=\"text-align: right;\">\n",
       "      <th></th>\n",
       "      <th>Serial Number</th>\n",
       "      <th>Current Price</th>\n",
       "      <th>Original Price</th>\n",
       "      <th>Discount Percentage</th>\n",
       "      <th>Rating</th>\n",
       "      <th>Number OF Ratings</th>\n",
       "      <th>Battery Life (Days)</th>\n",
       "    </tr>\n",
       "  </thead>\n",
       "  <tbody>\n",
       "    <tr>\n",
       "      <th>0</th>\n",
       "      <td>0.0</td>\n",
       "      <td>82990.0</td>\n",
       "      <td>89900.0</td>\n",
       "      <td>7.686318</td>\n",
       "      <td>4.0</td>\n",
       "      <td>65.0</td>\n",
       "      <td>8.0</td>\n",
       "    </tr>\n",
       "    <tr>\n",
       "      <th>1</th>\n",
       "      <td>1.0</td>\n",
       "      <td>3799.0</td>\n",
       "      <td>16999.0</td>\n",
       "      <td>77.651627</td>\n",
       "      <td>4.3</td>\n",
       "      <td>20788.0</td>\n",
       "      <td>3.5</td>\n",
       "    </tr>\n",
       "    <tr>\n",
       "      <th>2</th>\n",
       "      <td>2.0</td>\n",
       "      <td>1999.0</td>\n",
       "      <td>7990.0</td>\n",
       "      <td>74.981227</td>\n",
       "      <td>3.8</td>\n",
       "      <td>21724.0</td>\n",
       "      <td>8.0</td>\n",
       "    </tr>\n",
       "    <tr>\n",
       "      <th>3</th>\n",
       "      <td>3.0</td>\n",
       "      <td>1799.0</td>\n",
       "      <td>19999.0</td>\n",
       "      <td>91.004550</td>\n",
       "      <td>4.3</td>\n",
       "      <td>13244.0</td>\n",
       "      <td>3.5</td>\n",
       "    </tr>\n",
       "    <tr>\n",
       "      <th>4</th>\n",
       "      <td>4.0</td>\n",
       "      <td>1599.0</td>\n",
       "      <td>4999.0</td>\n",
       "      <td>68.013603</td>\n",
       "      <td>4.1</td>\n",
       "      <td>13901.0</td>\n",
       "      <td>8.0</td>\n",
       "    </tr>\n",
       "  </tbody>\n",
       "</table>\n",
       "</div>"
      ],
      "text/plain": [
       "   Serial Number  Current Price  Original Price  Discount Percentage  Rating  \\\n",
       "0            0.0        82990.0         89900.0             7.686318     4.0   \n",
       "1            1.0         3799.0         16999.0            77.651627     4.3   \n",
       "2            2.0         1999.0          7990.0            74.981227     3.8   \n",
       "3            3.0         1799.0         19999.0            91.004550     4.3   \n",
       "4            4.0         1599.0          4999.0            68.013603     4.1   \n",
       "\n",
       "   Number OF Ratings  Battery Life (Days)  \n",
       "0               65.0                  8.0  \n",
       "1            20788.0                  3.5  \n",
       "2            21724.0                  8.0  \n",
       "3            13244.0                  3.5  \n",
       "4            13901.0                  8.0  "
      ]
     },
     "execution_count": 24,
     "metadata": {},
     "output_type": "execute_result"
    }
   ],
   "source": [
    "numPanda = pd.DataFrame(numArray,columns=NumCol)\n",
    "numPanda.head() # converting numerical matrix to pandas DataFrame"
   ]
  },
  {
   "cell_type": "code",
   "execution_count": 25,
   "id": "b9a70e35",
   "metadata": {},
   "outputs": [
    {
     "data": {
      "text/html": [
       "<div>\n",
       "<style scoped>\n",
       "    .dataframe tbody tr th:only-of-type {\n",
       "        vertical-align: middle;\n",
       "    }\n",
       "\n",
       "    .dataframe tbody tr th {\n",
       "        vertical-align: top;\n",
       "    }\n",
       "\n",
       "    .dataframe thead th {\n",
       "        text-align: right;\n",
       "    }\n",
       "</style>\n",
       "<table border=\"1\" class=\"dataframe\">\n",
       "  <thead>\n",
       "    <tr style=\"text-align: right;\">\n",
       "      <th></th>\n",
       "      <th>Brand</th>\n",
       "      <th>Model Name</th>\n",
       "      <th>Dial Shape</th>\n",
       "      <th>Strap Color</th>\n",
       "      <th>Strap Material</th>\n",
       "      <th>Touchscreen</th>\n",
       "      <th>Bluetooth</th>\n",
       "      <th>Display Size</th>\n",
       "      <th>Weight</th>\n",
       "    </tr>\n",
       "  </thead>\n",
       "  <tbody>\n",
       "    <tr>\n",
       "      <th>0</th>\n",
       "      <td>noise</td>\n",
       "      <td>Wrb-sw-colorfitpro4alpha-std-rgld_pnk</td>\n",
       "      <td>Circle</td>\n",
       "      <td>Black</td>\n",
       "      <td>Silicon</td>\n",
       "      <td>Yes</td>\n",
       "      <td>Yes</td>\n",
       "      <td>1.7 inches</td>\n",
       "      <td>35 - 50 g</td>\n",
       "    </tr>\n",
       "    <tr>\n",
       "      <th>1</th>\n",
       "      <td>fire-boltt</td>\n",
       "      <td>BSW046</td>\n",
       "      <td>Circle</td>\n",
       "      <td>Black</td>\n",
       "      <td>Silicon</td>\n",
       "      <td>Yes</td>\n",
       "      <td>Yes</td>\n",
       "      <td>1.8 inches</td>\n",
       "      <td>50 - 75 g</td>\n",
       "    </tr>\n",
       "    <tr>\n",
       "      <th>2</th>\n",
       "      <td>boat</td>\n",
       "      <td>Wave Call</td>\n",
       "      <td>Circle</td>\n",
       "      <td>Black</td>\n",
       "      <td>Silicon</td>\n",
       "      <td>Yes</td>\n",
       "      <td>Yes</td>\n",
       "      <td>1.7 inches</td>\n",
       "      <td>35 - 50 g</td>\n",
       "    </tr>\n",
       "    <tr>\n",
       "      <th>3</th>\n",
       "      <td>fire-boltt</td>\n",
       "      <td>BSW053</td>\n",
       "      <td>Circle</td>\n",
       "      <td>Black</td>\n",
       "      <td>Silicon</td>\n",
       "      <td>Yes</td>\n",
       "      <td>Yes</td>\n",
       "      <td>1.8 inches</td>\n",
       "      <td>75g +</td>\n",
       "    </tr>\n",
       "    <tr>\n",
       "      <th>4</th>\n",
       "      <td>noise</td>\n",
       "      <td>Wrb-sw-colorfitpulsegobuzz-std-blk_blk</td>\n",
       "      <td>Circle</td>\n",
       "      <td>Black</td>\n",
       "      <td>Other</td>\n",
       "      <td>Yes</td>\n",
       "      <td>Yes</td>\n",
       "      <td>1.7 inches</td>\n",
       "      <td>35 - 50 g</td>\n",
       "    </tr>\n",
       "  </tbody>\n",
       "</table>\n",
       "</div>"
      ],
      "text/plain": [
       "        Brand                              Model Name Dial Shape Strap Color  \\\n",
       "0       noise   Wrb-sw-colorfitpro4alpha-std-rgld_pnk     Circle       Black   \n",
       "1  fire-boltt                                  BSW046     Circle       Black   \n",
       "2        boat                               Wave Call     Circle       Black   \n",
       "3  fire-boltt                                  BSW053     Circle       Black   \n",
       "4       noise  Wrb-sw-colorfitpulsegobuzz-std-blk_blk     Circle       Black   \n",
       "\n",
       "  Strap Material Touchscreen Bluetooth Display Size     Weight  \n",
       "0        Silicon         Yes       Yes   1.7 inches  35 - 50 g  \n",
       "1        Silicon         Yes       Yes   1.8 inches  50 - 75 g  \n",
       "2        Silicon         Yes       Yes   1.7 inches  35 - 50 g  \n",
       "3        Silicon         Yes       Yes   1.8 inches      75g +  \n",
       "4          Other         Yes       Yes   1.7 inches  35 - 50 g  "
      ]
     },
     "execution_count": 25,
     "metadata": {},
     "output_type": "execute_result"
    }
   ],
   "source": [
    "catPanda = pd.DataFrame(catArray,columns=catCol)\n",
    "catPanda.head() # converting categorical matrix to pandas Data Frame"
   ]
  },
  {
   "cell_type": "code",
   "execution_count": 26,
   "id": "6f072487",
   "metadata": {},
   "outputs": [],
   "source": [
    "try: # deleting array as they are occuping the extra space in the memory\n",
    "    del numArray\n",
    "    del catArray\n",
    "except:\n",
    "    pass"
   ]
  },
  {
   "cell_type": "code",
   "execution_count": 27,
   "id": "a9ff304d",
   "metadata": {},
   "outputs": [
    {
     "data": {
      "text/html": [
       "<div>\n",
       "<style scoped>\n",
       "    .dataframe tbody tr th:only-of-type {\n",
       "        vertical-align: middle;\n",
       "    }\n",
       "\n",
       "    .dataframe tbody tr th {\n",
       "        vertical-align: top;\n",
       "    }\n",
       "\n",
       "    .dataframe thead th {\n",
       "        text-align: right;\n",
       "    }\n",
       "</style>\n",
       "<table border=\"1\" class=\"dataframe\">\n",
       "  <thead>\n",
       "    <tr style=\"text-align: right;\">\n",
       "      <th></th>\n",
       "      <th>Brand</th>\n",
       "      <th>Model Name</th>\n",
       "      <th>Dial Shape</th>\n",
       "      <th>Strap Color</th>\n",
       "      <th>Strap Material</th>\n",
       "      <th>Touchscreen</th>\n",
       "      <th>Bluetooth</th>\n",
       "      <th>Display Size</th>\n",
       "      <th>Weight</th>\n",
       "      <th>Serial Number</th>\n",
       "      <th>Current Price</th>\n",
       "      <th>Original Price</th>\n",
       "      <th>Discount Percentage</th>\n",
       "      <th>Rating</th>\n",
       "      <th>Number OF Ratings</th>\n",
       "      <th>Battery Life (Days)</th>\n",
       "    </tr>\n",
       "  </thead>\n",
       "  <tbody>\n",
       "    <tr>\n",
       "      <th>0</th>\n",
       "      <td>noise</td>\n",
       "      <td>Wrb-sw-colorfitpro4alpha-std-rgld_pnk</td>\n",
       "      <td>Circle</td>\n",
       "      <td>Black</td>\n",
       "      <td>Silicon</td>\n",
       "      <td>Yes</td>\n",
       "      <td>Yes</td>\n",
       "      <td>1.7 inches</td>\n",
       "      <td>35 - 50 g</td>\n",
       "      <td>0.0</td>\n",
       "      <td>82990.0</td>\n",
       "      <td>89900.0</td>\n",
       "      <td>7.686318</td>\n",
       "      <td>4.0</td>\n",
       "      <td>65.0</td>\n",
       "      <td>8.0</td>\n",
       "    </tr>\n",
       "    <tr>\n",
       "      <th>1</th>\n",
       "      <td>fire-boltt</td>\n",
       "      <td>BSW046</td>\n",
       "      <td>Circle</td>\n",
       "      <td>Black</td>\n",
       "      <td>Silicon</td>\n",
       "      <td>Yes</td>\n",
       "      <td>Yes</td>\n",
       "      <td>1.8 inches</td>\n",
       "      <td>50 - 75 g</td>\n",
       "      <td>1.0</td>\n",
       "      <td>3799.0</td>\n",
       "      <td>16999.0</td>\n",
       "      <td>77.651627</td>\n",
       "      <td>4.3</td>\n",
       "      <td>20788.0</td>\n",
       "      <td>3.5</td>\n",
       "    </tr>\n",
       "    <tr>\n",
       "      <th>2</th>\n",
       "      <td>boat</td>\n",
       "      <td>Wave Call</td>\n",
       "      <td>Circle</td>\n",
       "      <td>Black</td>\n",
       "      <td>Silicon</td>\n",
       "      <td>Yes</td>\n",
       "      <td>Yes</td>\n",
       "      <td>1.7 inches</td>\n",
       "      <td>35 - 50 g</td>\n",
       "      <td>2.0</td>\n",
       "      <td>1999.0</td>\n",
       "      <td>7990.0</td>\n",
       "      <td>74.981227</td>\n",
       "      <td>3.8</td>\n",
       "      <td>21724.0</td>\n",
       "      <td>8.0</td>\n",
       "    </tr>\n",
       "    <tr>\n",
       "      <th>3</th>\n",
       "      <td>fire-boltt</td>\n",
       "      <td>BSW053</td>\n",
       "      <td>Circle</td>\n",
       "      <td>Black</td>\n",
       "      <td>Silicon</td>\n",
       "      <td>Yes</td>\n",
       "      <td>Yes</td>\n",
       "      <td>1.8 inches</td>\n",
       "      <td>75g +</td>\n",
       "      <td>3.0</td>\n",
       "      <td>1799.0</td>\n",
       "      <td>19999.0</td>\n",
       "      <td>91.004550</td>\n",
       "      <td>4.3</td>\n",
       "      <td>13244.0</td>\n",
       "      <td>3.5</td>\n",
       "    </tr>\n",
       "    <tr>\n",
       "      <th>4</th>\n",
       "      <td>noise</td>\n",
       "      <td>Wrb-sw-colorfitpulsegobuzz-std-blk_blk</td>\n",
       "      <td>Circle</td>\n",
       "      <td>Black</td>\n",
       "      <td>Other</td>\n",
       "      <td>Yes</td>\n",
       "      <td>Yes</td>\n",
       "      <td>1.7 inches</td>\n",
       "      <td>35 - 50 g</td>\n",
       "      <td>4.0</td>\n",
       "      <td>1599.0</td>\n",
       "      <td>4999.0</td>\n",
       "      <td>68.013603</td>\n",
       "      <td>4.1</td>\n",
       "      <td>13901.0</td>\n",
       "      <td>8.0</td>\n",
       "    </tr>\n",
       "  </tbody>\n",
       "</table>\n",
       "</div>"
      ],
      "text/plain": [
       "        Brand                              Model Name Dial Shape Strap Color  \\\n",
       "0       noise   Wrb-sw-colorfitpro4alpha-std-rgld_pnk     Circle       Black   \n",
       "1  fire-boltt                                  BSW046     Circle       Black   \n",
       "2        boat                               Wave Call     Circle       Black   \n",
       "3  fire-boltt                                  BSW053     Circle       Black   \n",
       "4       noise  Wrb-sw-colorfitpulsegobuzz-std-blk_blk     Circle       Black   \n",
       "\n",
       "  Strap Material Touchscreen Bluetooth Display Size     Weight  Serial Number  \\\n",
       "0        Silicon         Yes       Yes   1.7 inches  35 - 50 g            0.0   \n",
       "1        Silicon         Yes       Yes   1.8 inches  50 - 75 g            1.0   \n",
       "2        Silicon         Yes       Yes   1.7 inches  35 - 50 g            2.0   \n",
       "3        Silicon         Yes       Yes   1.8 inches      75g +            3.0   \n",
       "4          Other         Yes       Yes   1.7 inches  35 - 50 g            4.0   \n",
       "\n",
       "   Current Price  Original Price  Discount Percentage  Rating  \\\n",
       "0        82990.0         89900.0             7.686318     4.0   \n",
       "1         3799.0         16999.0            77.651627     4.3   \n",
       "2         1999.0          7990.0            74.981227     3.8   \n",
       "3         1799.0         19999.0            91.004550     4.3   \n",
       "4         1599.0          4999.0            68.013603     4.1   \n",
       "\n",
       "   Number OF Ratings  Battery Life (Days)  \n",
       "0               65.0                  8.0  \n",
       "1            20788.0                  3.5  \n",
       "2            21724.0                  8.0  \n",
       "3            13244.0                  3.5  \n",
       "4            13901.0                  8.0  "
      ]
     },
     "execution_count": 27,
     "metadata": {},
     "output_type": "execute_result"
    }
   ],
   "source": [
    "updatedData = pd.merge(left =catPanda, right= numPanda, left_index=True, right_index=True)\n",
    "updatedData.head() # merging the categorical and numerical obtained after the transformation"
   ]
  },
  {
   "cell_type": "code",
   "execution_count": 28,
   "id": "29434235",
   "metadata": {},
   "outputs": [],
   "source": [
    "try: # deleted the Data frame as it is no longer required\n",
    "    del data\n",
    "except:\n",
    "    pass"
   ]
  },
  {
   "cell_type": "code",
   "execution_count": 29,
   "id": "9884dcf0",
   "metadata": {},
   "outputs": [],
   "source": [
    "def cleanDisplaySize(series):  # function to extract the numberic data from string\n",
    "    for value in series:\n",
    "        toReturn=''\n",
    "        for char in series:\n",
    "            if str.isnumeric(char) or char=='.':\n",
    "                toReturn= toReturn+char\n",
    "        return toReturn"
   ]
  },
  {
   "cell_type": "code",
   "execution_count": 30,
   "id": "45acf24d",
   "metadata": {},
   "outputs": [
    {
     "data": {
      "text/plain": [
       "0      1.7\n",
       "1      1.8\n",
       "2      1.7\n",
       "3      1.8\n",
       "4      1.7\n",
       "      ... \n",
       "445    1.3\n",
       "446    0.1\n",
       "447    1.3\n",
       "448    0.1\n",
       "449    0.1\n",
       "Name: Display Size, Length: 450, dtype: object"
      ]
     },
     "execution_count": 30,
     "metadata": {},
     "output_type": "execute_result"
    }
   ],
   "source": [
    "updatedData['Display Size'].apply(cleanDisplaySize)"
   ]
  },
  {
   "cell_type": "code",
   "execution_count": 31,
   "id": "ce04cf19",
   "metadata": {},
   "outputs": [],
   "source": [
    "# Cleaning the Display size and weight\n",
    "updatedData['Display Size']= updatedData['Display Size'].apply(cleanDisplaySize)\n",
    "updatedData['Display Size']  = updatedData['Display Size'].apply(lambda val: float(val))"
   ]
  },
  {
   "cell_type": "code",
   "execution_count": 32,
   "id": "f96f745d",
   "metadata": {},
   "outputs": [],
   "source": [
    "def cleanWeight(series): # function to remove the unnecessary string from the weight\n",
    "    for value in series:\n",
    "        toReturn=''\n",
    "        for char in series:\n",
    "            if str.isnumeric(char) or char=='-' or char=='+' or char=='<' or char=='>':\n",
    "                toReturn= toReturn+char\n",
    "        return toReturn"
   ]
  },
  {
   "cell_type": "code",
   "execution_count": 33,
   "id": "3bb96031",
   "metadata": {},
   "outputs": [],
   "source": [
    "updatedData['Weight'] = updatedData['Weight'].apply(cleanWeight)"
   ]
  },
  {
   "cell_type": "markdown",
   "id": "356bc020",
   "metadata": {},
   "source": [
    "# Data Visualization and Descriptive analysis"
   ]
  },
  {
   "cell_type": "markdown",
   "id": "bdc6a657",
   "metadata": {},
   "source": [
    "### Brand"
   ]
  },
  {
   "cell_type": "code",
   "execution_count": 34,
   "id": "094a2de5",
   "metadata": {},
   "outputs": [
    {
     "data": {
      "text/html": [
       "<div>\n",
       "<style scoped>\n",
       "    .dataframe tbody tr th:only-of-type {\n",
       "        vertical-align: middle;\n",
       "    }\n",
       "\n",
       "    .dataframe tbody tr th {\n",
       "        vertical-align: top;\n",
       "    }\n",
       "\n",
       "    .dataframe thead th {\n",
       "        text-align: right;\n",
       "    }\n",
       "</style>\n",
       "<table border=\"1\" class=\"dataframe\">\n",
       "  <thead>\n",
       "    <tr style=\"text-align: right;\">\n",
       "      <th></th>\n",
       "      <th>Rating</th>\n",
       "    </tr>\n",
       "    <tr>\n",
       "      <th>Brand</th>\n",
       "      <th></th>\n",
       "    </tr>\n",
       "  </thead>\n",
       "  <tbody>\n",
       "    <tr>\n",
       "      <th>apple</th>\n",
       "      <td>4.553846</td>\n",
       "    </tr>\n",
       "    <tr>\n",
       "      <th>garmin</th>\n",
       "      <td>4.441463</td>\n",
       "    </tr>\n",
       "    <tr>\n",
       "      <th>fitbit</th>\n",
       "      <td>4.428571</td>\n",
       "    </tr>\n",
       "    <tr>\n",
       "      <th>huawei</th>\n",
       "      <td>4.313333</td>\n",
       "    </tr>\n",
       "    <tr>\n",
       "      <th>honor</th>\n",
       "      <td>4.235714</td>\n",
       "    </tr>\n",
       "    <tr>\n",
       "      <th>samsung</th>\n",
       "      <td>4.223333</td>\n",
       "    </tr>\n",
       "    <tr>\n",
       "      <th>amazfit</th>\n",
       "      <td>4.142857</td>\n",
       "    </tr>\n",
       "    <tr>\n",
       "      <th>crossbeats</th>\n",
       "      <td>4.100000</td>\n",
       "    </tr>\n",
       "    <tr>\n",
       "      <th>ambrane</th>\n",
       "      <td>4.081818</td>\n",
       "    </tr>\n",
       "    <tr>\n",
       "      <th>noise</th>\n",
       "      <td>4.069767</td>\n",
       "    </tr>\n",
       "    <tr>\n",
       "      <th>fossil</th>\n",
       "      <td>4.066667</td>\n",
       "    </tr>\n",
       "    <tr>\n",
       "      <th>boat</th>\n",
       "      <td>4.000000</td>\n",
       "    </tr>\n",
       "    <tr>\n",
       "      <th>pebble</th>\n",
       "      <td>3.954545</td>\n",
       "    </tr>\n",
       "    <tr>\n",
       "      <th>dizo</th>\n",
       "      <td>3.876000</td>\n",
       "    </tr>\n",
       "    <tr>\n",
       "      <th>gizmore</th>\n",
       "      <td>3.869565</td>\n",
       "    </tr>\n",
       "    <tr>\n",
       "      <th>zebronics</th>\n",
       "      <td>3.636364</td>\n",
       "    </tr>\n",
       "    <tr>\n",
       "      <th>hammer</th>\n",
       "      <td>3.600000</td>\n",
       "    </tr>\n",
       "    <tr>\n",
       "      <th>fire-boltt</th>\n",
       "      <td>3.506667</td>\n",
       "    </tr>\n",
       "  </tbody>\n",
       "</table>\n",
       "</div>"
      ],
      "text/plain": [
       "              Rating\n",
       "Brand               \n",
       "apple       4.553846\n",
       "garmin      4.441463\n",
       "fitbit      4.428571\n",
       "huawei      4.313333\n",
       "honor       4.235714\n",
       "samsung     4.223333\n",
       "amazfit     4.142857\n",
       "crossbeats  4.100000\n",
       "ambrane     4.081818\n",
       "noise       4.069767\n",
       "fossil      4.066667\n",
       "boat        4.000000\n",
       "pebble      3.954545\n",
       "dizo        3.876000\n",
       "gizmore     3.869565\n",
       "zebronics   3.636364\n",
       "hammer      3.600000\n",
       "fire-boltt  3.506667"
      ]
     },
     "execution_count": 34,
     "metadata": {},
     "output_type": "execute_result"
    }
   ],
   "source": [
    "# Smart watch brand with highest average rating\n",
    "pd.pivot_table(updatedData,values=['Rating'],index = 'Brand').sort_values('Rating',ascending=False)"
   ]
  },
  {
   "cell_type": "markdown",
   "id": "47429d49",
   "metadata": {},
   "source": [
    "It shows the rating of apple, garmin anf fitbit brand is very high while fire-bolt and hammer lies at the bottom"
   ]
  },
  {
   "cell_type": "code",
   "execution_count": 35,
   "id": "4ab22ca9",
   "metadata": {},
   "outputs": [
    {
     "data": {
      "text/html": [
       "<div>\n",
       "<style scoped>\n",
       "    .dataframe tbody tr th:only-of-type {\n",
       "        vertical-align: middle;\n",
       "    }\n",
       "\n",
       "    .dataframe tbody tr th {\n",
       "        vertical-align: top;\n",
       "    }\n",
       "\n",
       "    .dataframe thead th {\n",
       "        text-align: right;\n",
       "    }\n",
       "</style>\n",
       "<table border=\"1\" class=\"dataframe\">\n",
       "  <thead>\n",
       "    <tr style=\"text-align: right;\">\n",
       "      <th></th>\n",
       "      <th>Rating</th>\n",
       "      <th>Count</th>\n",
       "      <th>countPercentage</th>\n",
       "    </tr>\n",
       "    <tr>\n",
       "      <th>Brand</th>\n",
       "      <th></th>\n",
       "      <th></th>\n",
       "      <th></th>\n",
       "    </tr>\n",
       "  </thead>\n",
       "  <tbody>\n",
       "    <tr>\n",
       "      <th>apple</th>\n",
       "      <td>4.553846</td>\n",
       "      <td>26</td>\n",
       "      <td>5.777778</td>\n",
       "    </tr>\n",
       "    <tr>\n",
       "      <th>garmin</th>\n",
       "      <td>4.441463</td>\n",
       "      <td>41</td>\n",
       "      <td>9.111111</td>\n",
       "    </tr>\n",
       "    <tr>\n",
       "      <th>fitbit</th>\n",
       "      <td>4.428571</td>\n",
       "      <td>21</td>\n",
       "      <td>4.666667</td>\n",
       "    </tr>\n",
       "    <tr>\n",
       "      <th>huawei</th>\n",
       "      <td>4.313333</td>\n",
       "      <td>15</td>\n",
       "      <td>3.333333</td>\n",
       "    </tr>\n",
       "    <tr>\n",
       "      <th>honor</th>\n",
       "      <td>4.235714</td>\n",
       "      <td>14</td>\n",
       "      <td>3.111111</td>\n",
       "    </tr>\n",
       "    <tr>\n",
       "      <th>samsung</th>\n",
       "      <td>4.223333</td>\n",
       "      <td>30</td>\n",
       "      <td>6.666667</td>\n",
       "    </tr>\n",
       "    <tr>\n",
       "      <th>amazfit</th>\n",
       "      <td>4.142857</td>\n",
       "      <td>14</td>\n",
       "      <td>3.111111</td>\n",
       "    </tr>\n",
       "    <tr>\n",
       "      <th>crossbeats</th>\n",
       "      <td>4.100000</td>\n",
       "      <td>4</td>\n",
       "      <td>0.888889</td>\n",
       "    </tr>\n",
       "    <tr>\n",
       "      <th>ambrane</th>\n",
       "      <td>4.081818</td>\n",
       "      <td>11</td>\n",
       "      <td>2.444444</td>\n",
       "    </tr>\n",
       "    <tr>\n",
       "      <th>noise</th>\n",
       "      <td>4.069767</td>\n",
       "      <td>43</td>\n",
       "      <td>9.555556</td>\n",
       "    </tr>\n",
       "    <tr>\n",
       "      <th>fossil</th>\n",
       "      <td>4.066667</td>\n",
       "      <td>24</td>\n",
       "      <td>5.333333</td>\n",
       "    </tr>\n",
       "    <tr>\n",
       "      <th>boat</th>\n",
       "      <td>4.000000</td>\n",
       "      <td>32</td>\n",
       "      <td>7.111111</td>\n",
       "    </tr>\n",
       "    <tr>\n",
       "      <th>pebble</th>\n",
       "      <td>3.954545</td>\n",
       "      <td>33</td>\n",
       "      <td>7.333333</td>\n",
       "    </tr>\n",
       "    <tr>\n",
       "      <th>dizo</th>\n",
       "      <td>3.876000</td>\n",
       "      <td>25</td>\n",
       "      <td>5.555556</td>\n",
       "    </tr>\n",
       "    <tr>\n",
       "      <th>gizmore</th>\n",
       "      <td>3.869565</td>\n",
       "      <td>23</td>\n",
       "      <td>5.111111</td>\n",
       "    </tr>\n",
       "    <tr>\n",
       "      <th>zebronics</th>\n",
       "      <td>3.636364</td>\n",
       "      <td>33</td>\n",
       "      <td>7.333333</td>\n",
       "    </tr>\n",
       "    <tr>\n",
       "      <th>hammer</th>\n",
       "      <td>3.600000</td>\n",
       "      <td>1</td>\n",
       "      <td>0.222222</td>\n",
       "    </tr>\n",
       "    <tr>\n",
       "      <th>fire-boltt</th>\n",
       "      <td>3.506667</td>\n",
       "      <td>60</td>\n",
       "      <td>13.333333</td>\n",
       "    </tr>\n",
       "  </tbody>\n",
       "</table>\n",
       "</div>"
      ],
      "text/plain": [
       "              Rating  Count  countPercentage\n",
       "Brand                                       \n",
       "apple       4.553846     26         5.777778\n",
       "garmin      4.441463     41         9.111111\n",
       "fitbit      4.428571     21         4.666667\n",
       "huawei      4.313333     15         3.333333\n",
       "honor       4.235714     14         3.111111\n",
       "samsung     4.223333     30         6.666667\n",
       "amazfit     4.142857     14         3.111111\n",
       "crossbeats  4.100000      4         0.888889\n",
       "ambrane     4.081818     11         2.444444\n",
       "noise       4.069767     43         9.555556\n",
       "fossil      4.066667     24         5.333333\n",
       "boat        4.000000     32         7.111111\n",
       "pebble      3.954545     33         7.333333\n",
       "dizo        3.876000     25         5.555556\n",
       "gizmore     3.869565     23         5.111111\n",
       "zebronics   3.636364     33         7.333333\n",
       "hammer      3.600000      1         0.222222\n",
       "fire-boltt  3.506667     60        13.333333"
      ]
     },
     "execution_count": 35,
     "metadata": {},
     "output_type": "execute_result"
    }
   ],
   "source": [
    "# Smart watch brand with highest average rating\n",
    "temp = pd.pivot_table(updatedData,values='Rating',index = 'Brand').sort_values(by='Rating',ascending=False)\n",
    "temp['Count'] = pd.pivot_table(updatedData,values='Rating',index = 'Brand',aggfunc='count')\n",
    "temp['countPercentage']= pd.pivot_table(updatedData,values='Rating',index = 'Brand',aggfunc='count')/len(updatedData)*100\n",
    "temp"
   ]
  },
  {
   "cell_type": "markdown",
   "id": "3898730a",
   "metadata": {},
   "source": [
    "Using count of rating, it is clear that Hammer and Crossbeats rating is not very reliable as very feat data is there for the anlysis of these brand"
   ]
  },
  {
   "cell_type": "code",
   "execution_count": 36,
   "id": "a085fa68",
   "metadata": {},
   "outputs": [
    {
     "data": {
      "text/html": [
       "<div>\n",
       "<style scoped>\n",
       "    .dataframe tbody tr th:only-of-type {\n",
       "        vertical-align: middle;\n",
       "    }\n",
       "\n",
       "    .dataframe tbody tr th {\n",
       "        vertical-align: top;\n",
       "    }\n",
       "\n",
       "    .dataframe thead th {\n",
       "        text-align: right;\n",
       "    }\n",
       "</style>\n",
       "<table border=\"1\" class=\"dataframe\">\n",
       "  <thead>\n",
       "    <tr style=\"text-align: right;\">\n",
       "      <th></th>\n",
       "      <th>Current Price</th>\n",
       "      <th>Count</th>\n",
       "      <th>countPercentage</th>\n",
       "    </tr>\n",
       "    <tr>\n",
       "      <th>Brand</th>\n",
       "      <th></th>\n",
       "      <th></th>\n",
       "      <th></th>\n",
       "    </tr>\n",
       "  </thead>\n",
       "  <tbody>\n",
       "    <tr>\n",
       "      <th>apple</th>\n",
       "      <td>43161.307692</td>\n",
       "      <td>26</td>\n",
       "      <td>5.777778</td>\n",
       "    </tr>\n",
       "    <tr>\n",
       "      <th>garmin</th>\n",
       "      <td>42210.170732</td>\n",
       "      <td>41</td>\n",
       "      <td>9.111111</td>\n",
       "    </tr>\n",
       "    <tr>\n",
       "      <th>samsung</th>\n",
       "      <td>24601.633333</td>\n",
       "      <td>30</td>\n",
       "      <td>6.666667</td>\n",
       "    </tr>\n",
       "    <tr>\n",
       "      <th>fitbit</th>\n",
       "      <td>17045.761905</td>\n",
       "      <td>21</td>\n",
       "      <td>4.666667</td>\n",
       "    </tr>\n",
       "    <tr>\n",
       "      <th>fossil</th>\n",
       "      <td>15232.666667</td>\n",
       "      <td>24</td>\n",
       "      <td>5.333333</td>\n",
       "    </tr>\n",
       "    <tr>\n",
       "      <th>huawei</th>\n",
       "      <td>15159.133333</td>\n",
       "      <td>15</td>\n",
       "      <td>3.333333</td>\n",
       "    </tr>\n",
       "    <tr>\n",
       "      <th>honor</th>\n",
       "      <td>10373.857143</td>\n",
       "      <td>14</td>\n",
       "      <td>3.111111</td>\n",
       "    </tr>\n",
       "    <tr>\n",
       "      <th>amazfit</th>\n",
       "      <td>10084.785714</td>\n",
       "      <td>14</td>\n",
       "      <td>3.111111</td>\n",
       "    </tr>\n",
       "    <tr>\n",
       "      <th>crossbeats</th>\n",
       "      <td>4249.000000</td>\n",
       "      <td>4</td>\n",
       "      <td>0.888889</td>\n",
       "    </tr>\n",
       "    <tr>\n",
       "      <th>noise</th>\n",
       "      <td>4029.023256</td>\n",
       "      <td>43</td>\n",
       "      <td>9.555556</td>\n",
       "    </tr>\n",
       "    <tr>\n",
       "      <th>pebble</th>\n",
       "      <td>3648.242424</td>\n",
       "      <td>33</td>\n",
       "      <td>7.333333</td>\n",
       "    </tr>\n",
       "    <tr>\n",
       "      <th>fire-boltt</th>\n",
       "      <td>3292.366667</td>\n",
       "      <td>60</td>\n",
       "      <td>13.333333</td>\n",
       "    </tr>\n",
       "    <tr>\n",
       "      <th>dizo</th>\n",
       "      <td>3050.240000</td>\n",
       "      <td>25</td>\n",
       "      <td>5.555556</td>\n",
       "    </tr>\n",
       "    <tr>\n",
       "      <th>zebronics</th>\n",
       "      <td>2767.121212</td>\n",
       "      <td>33</td>\n",
       "      <td>7.333333</td>\n",
       "    </tr>\n",
       "    <tr>\n",
       "      <th>gizmore</th>\n",
       "      <td>2320.739130</td>\n",
       "      <td>23</td>\n",
       "      <td>5.111111</td>\n",
       "    </tr>\n",
       "    <tr>\n",
       "      <th>boat</th>\n",
       "      <td>2153.687500</td>\n",
       "      <td>32</td>\n",
       "      <td>7.111111</td>\n",
       "    </tr>\n",
       "    <tr>\n",
       "      <th>ambrane</th>\n",
       "      <td>1896.181818</td>\n",
       "      <td>11</td>\n",
       "      <td>2.444444</td>\n",
       "    </tr>\n",
       "    <tr>\n",
       "      <th>hammer</th>\n",
       "      <td>1799.000000</td>\n",
       "      <td>1</td>\n",
       "      <td>0.222222</td>\n",
       "    </tr>\n",
       "  </tbody>\n",
       "</table>\n",
       "</div>"
      ],
      "text/plain": [
       "            Current Price  Count  countPercentage\n",
       "Brand                                            \n",
       "apple        43161.307692     26         5.777778\n",
       "garmin       42210.170732     41         9.111111\n",
       "samsung      24601.633333     30         6.666667\n",
       "fitbit       17045.761905     21         4.666667\n",
       "fossil       15232.666667     24         5.333333\n",
       "huawei       15159.133333     15         3.333333\n",
       "honor        10373.857143     14         3.111111\n",
       "amazfit      10084.785714     14         3.111111\n",
       "crossbeats    4249.000000      4         0.888889\n",
       "noise         4029.023256     43         9.555556\n",
       "pebble        3648.242424     33         7.333333\n",
       "fire-boltt    3292.366667     60        13.333333\n",
       "dizo          3050.240000     25         5.555556\n",
       "zebronics     2767.121212     33         7.333333\n",
       "gizmore       2320.739130     23         5.111111\n",
       "boat          2153.687500     32         7.111111\n",
       "ambrane       1896.181818     11         2.444444\n",
       "hammer        1799.000000      1         0.222222"
      ]
     },
     "execution_count": 36,
     "metadata": {},
     "output_type": "execute_result"
    }
   ],
   "source": [
    "# Smart watch brand with highest current price from top to bottom\n",
    "price = pd.pivot_table(updatedData,values='Current Price',index = 'Brand').sort_values(by='Current Price',ascending=False)\n",
    "price['Count'] = pd.pivot_table(updatedData,values='Current Price',index = 'Brand',aggfunc='count')\n",
    "price['countPercentage']= pd.pivot_table(updatedData,values='Rating',index = 'Brand',aggfunc='count')/len(updatedData)*100\n",
    "price"
   ]
  },
  {
   "cell_type": "markdown",
   "id": "589f48f3",
   "metadata": {},
   "source": [
    "From it is clear that the most rated brand as well expensive are apple and garmin"
   ]
  },
  {
   "cell_type": "code",
   "execution_count": 38,
   "id": "be611a9b",
   "metadata": {},
   "outputs": [
    {
     "data": {
      "text/html": [
       "<div>\n",
       "<style scoped>\n",
       "    .dataframe tbody tr th:only-of-type {\n",
       "        vertical-align: middle;\n",
       "    }\n",
       "\n",
       "    .dataframe tbody tr th {\n",
       "        vertical-align: top;\n",
       "    }\n",
       "\n",
       "    .dataframe thead th {\n",
       "        text-align: right;\n",
       "    }\n",
       "</style>\n",
       "<table border=\"1\" class=\"dataframe\">\n",
       "  <thead>\n",
       "    <tr style=\"text-align: right;\">\n",
       "      <th></th>\n",
       "      <th>Battery Life (Days)</th>\n",
       "    </tr>\n",
       "    <tr>\n",
       "      <th>Brand</th>\n",
       "      <th></th>\n",
       "    </tr>\n",
       "  </thead>\n",
       "  <tbody>\n",
       "    <tr>\n",
       "      <th>apple</th>\n",
       "      <td>21.288462</td>\n",
       "    </tr>\n",
       "    <tr>\n",
       "      <th>ambrane</th>\n",
       "      <td>19.863636</td>\n",
       "    </tr>\n",
       "    <tr>\n",
       "      <th>hammer</th>\n",
       "      <td>17.500000</td>\n",
       "    </tr>\n",
       "    <tr>\n",
       "      <th>dizo</th>\n",
       "      <td>16.780000</td>\n",
       "    </tr>\n",
       "    <tr>\n",
       "      <th>fossil</th>\n",
       "      <td>16.645833</td>\n",
       "    </tr>\n",
       "    <tr>\n",
       "      <th>boat</th>\n",
       "      <td>15.593750</td>\n",
       "    </tr>\n",
       "    <tr>\n",
       "      <th>garmin</th>\n",
       "      <td>15.487805</td>\n",
       "    </tr>\n",
       "    <tr>\n",
       "      <th>zebronics</th>\n",
       "      <td>15.325758</td>\n",
       "    </tr>\n",
       "    <tr>\n",
       "      <th>pebble</th>\n",
       "      <td>14.530303</td>\n",
       "    </tr>\n",
       "    <tr>\n",
       "      <th>fire-boltt</th>\n",
       "      <td>14.408333</td>\n",
       "    </tr>\n",
       "    <tr>\n",
       "      <th>noise</th>\n",
       "      <td>14.327907</td>\n",
       "    </tr>\n",
       "    <tr>\n",
       "      <th>huawei</th>\n",
       "      <td>13.033333</td>\n",
       "    </tr>\n",
       "    <tr>\n",
       "      <th>honor</th>\n",
       "      <td>12.642857</td>\n",
       "    </tr>\n",
       "    <tr>\n",
       "      <th>amazfit</th>\n",
       "      <td>12.357143</td>\n",
       "    </tr>\n",
       "    <tr>\n",
       "      <th>gizmore</th>\n",
       "      <td>11.739130</td>\n",
       "    </tr>\n",
       "    <tr>\n",
       "      <th>fitbit</th>\n",
       "      <td>11.690476</td>\n",
       "    </tr>\n",
       "    <tr>\n",
       "      <th>crossbeats</th>\n",
       "      <td>6.925000</td>\n",
       "    </tr>\n",
       "    <tr>\n",
       "      <th>samsung</th>\n",
       "      <td>4.910000</td>\n",
       "    </tr>\n",
       "  </tbody>\n",
       "</table>\n",
       "</div>"
      ],
      "text/plain": [
       "            Battery Life (Days)\n",
       "Brand                          \n",
       "apple                 21.288462\n",
       "ambrane               19.863636\n",
       "hammer                17.500000\n",
       "dizo                  16.780000\n",
       "fossil                16.645833\n",
       "boat                  15.593750\n",
       "garmin                15.487805\n",
       "zebronics             15.325758\n",
       "pebble                14.530303\n",
       "fire-boltt            14.408333\n",
       "noise                 14.327907\n",
       "huawei                13.033333\n",
       "honor                 12.642857\n",
       "amazfit               12.357143\n",
       "gizmore               11.739130\n",
       "fitbit                11.690476\n",
       "crossbeats             6.925000\n",
       "samsung                4.910000"
      ]
     },
     "execution_count": 38,
     "metadata": {},
     "output_type": "execute_result"
    }
   ],
   "source": [
    "# Smart watch brand with highest average \n",
    "pd.pivot_table(updatedData,values=['Battery Life (Days)'],index = 'Brand').sort_values(by='Battery Life (Days)',ascending=False)"
   ]
  },
  {
   "cell_type": "markdown",
   "id": "4bf2d711",
   "metadata": {},
   "source": [
    "The average battery life offered by brand like Apple , Ambrane, Hammer is very high.Samsung and Crossbeats lies at the bottom\n",
    ",rest brands provide average battery life of 15 to 16 hours"
   ]
  },
  {
   "cell_type": "code",
   "execution_count": 172,
   "id": "d8bd44d8",
   "metadata": {},
   "outputs": [
    {
     "data": {
      "image/png": "[encoded data removed]",
      "text/plain": [
       "<Figure size 720x576 with 1 Axes>"
      ]
     },
     "metadata": {
      "needs_background": "light"
     },
     "output_type": "display_data"
    }
   ],
   "source": [
    "\n",
    "toPlot = pd.pivot_table(updatedData[['Brand', \"Battery Life (Days)\"]],values='Battery Life (Days)',index='Brand').sort_values(\n",
    "by = 'Battery Life (Days)',ascending=False)\n",
    "toPlot.plot(kind ='bar',figsize =(10,8),alpha =0.8)\n",
    "plt.ylabel(\"Battery Life\")\n",
    "plt.show()"
   ]
  },
  {
   "cell_type": "markdown",
   "id": "0fba2b9f",
   "metadata": {},
   "source": [
    "Above bar graphs depicts that averge battery life for apple,ambrane is very good while leas for crossbeats and samsung"
   ]
  },
  {
   "cell_type": "code",
   "execution_count": 175,
   "id": "8251dc0f",
   "metadata": {},
   "outputs": [
    {
     "data": {
      "image/png": "[encoded data removed]",
      "text/plain": [
       "<Figure size 720x576 with 1 Axes>"
      ]
     },
     "metadata": {
      "needs_background": "light"
     },
     "output_type": "display_data"
    }
   ],
   "source": [
    "plt.figure(figsize=(10,8))\n",
    "plt.title(\"Box plot Brand vs Battery Life \")\n",
    "sns.boxplot(x=updatedData['Brand'] ,y = updatedData['Battery Life (Days)'])\n",
    "plt.xticks(rotation=90)\n",
    "plt.show()"
   ]
  },
  {
   "cell_type": "markdown",
   "id": "804144e8",
   "metadata": {},
   "source": [
    "If battery life is considered only criterion to buy then apple and ambrane are best , these are the highly reliable brand\n",
    "with very lest variability "
   ]
  },
  {
   "cell_type": "code",
   "execution_count": 189,
   "id": "2ed62e69",
   "metadata": {},
   "outputs": [
    {
     "data": {
      "text/html": [
       "<div>\n",
       "<style scoped>\n",
       "    .dataframe tbody tr th:only-of-type {\n",
       "        vertical-align: middle;\n",
       "    }\n",
       "\n",
       "    .dataframe tbody tr th {\n",
       "        vertical-align: top;\n",
       "    }\n",
       "\n",
       "    .dataframe thead th {\n",
       "        text-align: right;\n",
       "    }\n",
       "</style>\n",
       "<table border=\"1\" class=\"dataframe\">\n",
       "  <thead>\n",
       "    <tr style=\"text-align: right;\">\n",
       "      <th></th>\n",
       "      <th>Battery Life (Days)</th>\n",
       "    </tr>\n",
       "    <tr>\n",
       "      <th>Brand</th>\n",
       "      <th></th>\n",
       "    </tr>\n",
       "  </thead>\n",
       "  <tbody>\n",
       "    <tr>\n",
       "      <th>apple</th>\n",
       "      <td>0.170428</td>\n",
       "    </tr>\n",
       "    <tr>\n",
       "      <th>ambrane</th>\n",
       "      <td>0.244590</td>\n",
       "    </tr>\n",
       "    <tr>\n",
       "      <th>garmin</th>\n",
       "      <td>0.363206</td>\n",
       "    </tr>\n",
       "    <tr>\n",
       "      <th>dizo</th>\n",
       "      <td>0.388041</td>\n",
       "    </tr>\n",
       "    <tr>\n",
       "      <th>fossil</th>\n",
       "      <td>0.407688</td>\n",
       "    </tr>\n",
       "    <tr>\n",
       "      <th>huawei</th>\n",
       "      <td>0.441347</td>\n",
       "    </tr>\n",
       "    <tr>\n",
       "      <th>boat</th>\n",
       "      <td>0.441781</td>\n",
       "    </tr>\n",
       "    <tr>\n",
       "      <th>noise</th>\n",
       "      <td>0.481056</td>\n",
       "    </tr>\n",
       "    <tr>\n",
       "      <th>pebble</th>\n",
       "      <td>0.487094</td>\n",
       "    </tr>\n",
       "    <tr>\n",
       "      <th>zebronics</th>\n",
       "      <td>0.511968</td>\n",
       "    </tr>\n",
       "    <tr>\n",
       "      <th>amazfit</th>\n",
       "      <td>0.523113</td>\n",
       "    </tr>\n",
       "    <tr>\n",
       "      <th>fire-boltt</th>\n",
       "      <td>0.559537</td>\n",
       "    </tr>\n",
       "    <tr>\n",
       "      <th>crossbeats</th>\n",
       "      <td>0.614624</td>\n",
       "    </tr>\n",
       "    <tr>\n",
       "      <th>honor</th>\n",
       "      <td>0.631470</td>\n",
       "    </tr>\n",
       "    <tr>\n",
       "      <th>gizmore</th>\n",
       "      <td>0.662942</td>\n",
       "    </tr>\n",
       "    <tr>\n",
       "      <th>fitbit</th>\n",
       "      <td>0.698142</td>\n",
       "    </tr>\n",
       "    <tr>\n",
       "      <th>samsung</th>\n",
       "      <td>0.869352</td>\n",
       "    </tr>\n",
       "    <tr>\n",
       "      <th>hammer</th>\n",
       "      <td>NaN</td>\n",
       "    </tr>\n",
       "  </tbody>\n",
       "</table>\n",
       "</div>"
      ],
      "text/plain": [
       "            Battery Life (Days)\n",
       "Brand                          \n",
       "apple                  0.170428\n",
       "ambrane                0.244590\n",
       "garmin                 0.363206\n",
       "dizo                   0.388041\n",
       "fossil                 0.407688\n",
       "huawei                 0.441347\n",
       "boat                   0.441781\n",
       "noise                  0.481056\n",
       "pebble                 0.487094\n",
       "zebronics              0.511968\n",
       "amazfit                0.523113\n",
       "fire-boltt             0.559537\n",
       "crossbeats             0.614624\n",
       "honor                  0.631470\n",
       "gizmore                0.662942\n",
       "fitbit                 0.698142\n",
       "samsung                0.869352\n",
       "hammer                      NaN"
      ]
     },
     "execution_count": 189,
     "metadata": {},
     "output_type": "execute_result"
    }
   ],
   "source": [
    "# finding coefVariance\n",
    "coefVarinace =pd.pivot_table(data =updatedData,values ='Battery Life (Days)', index='Brand',aggfunc='std')/pd.pivot_table(\n",
    "    data =updatedData,values ='Battery Life (Days)', index='Brand')\n",
    "coefVarinace = coefVarinace.sort_values(by ='Battery Life (Days)')\n",
    "coefVarinace"
   ]
  },
  {
   "cell_type": "markdown",
   "id": "5fc1a8c8",
   "metadata": {},
   "source": [
    "The low value of coefficient of variance indiacates hight reliability of the brand apple , ambrane, garmin and dizo\n",
    "while as fire-bolt, cross-beats, honor, gizmore, fitbit and samsung offers very less reliability when battery is considered as the perfomance criterion"
   ]
  },
  {
   "cell_type": "code",
   "execution_count": 40,
   "id": "ae86f209",
   "metadata": {},
   "outputs": [
    {
     "data": {
      "image/png": "[encoded data removed]",
      "text/plain": [
       "<Figure size 720x432 with 1 Axes>"
      ]
     },
     "metadata": {
      "needs_background": "light"
     },
     "output_type": "display_data"
    }
   ],
   "source": [
    "plt.figure(figsize=(10,6))\n",
    "sns.countplot(x=updatedData['Touchscreen'])\n",
    "plt.xticks(rotation=90)\n",
    "plt.show()"
   ]
  },
  {
   "cell_type": "markdown",
   "id": "675095d7",
   "metadata": {},
   "source": [
    "From above countplot it is clear that all smart watches offer touchscreen feature"
   ]
  },
  {
   "cell_type": "code",
   "execution_count": 41,
   "id": "f78b68ef",
   "metadata": {},
   "outputs": [
    {
     "name": "stdout",
     "output_type": "stream",
     "text": [
      "Total smart watch with no touchscreen feature 24\n",
      "Details of no touchsreen smart watch\n"
     ]
    },
    {
     "data": {
      "text/html": [
       "<div>\n",
       "<style scoped>\n",
       "    .dataframe tbody tr th:only-of-type {\n",
       "        vertical-align: middle;\n",
       "    }\n",
       "\n",
       "    .dataframe tbody tr th {\n",
       "        vertical-align: top;\n",
       "    }\n",
       "\n",
       "    .dataframe thead th {\n",
       "        text-align: right;\n",
       "    }\n",
       "</style>\n",
       "<table border=\"1\" class=\"dataframe\">\n",
       "  <thead>\n",
       "    <tr style=\"text-align: right;\">\n",
       "      <th></th>\n",
       "      <th>Brand</th>\n",
       "      <th>Model Name</th>\n",
       "      <th>Dial Shape</th>\n",
       "      <th>Strap Color</th>\n",
       "      <th>Strap Material</th>\n",
       "      <th>Touchscreen</th>\n",
       "      <th>Bluetooth</th>\n",
       "      <th>Display Size</th>\n",
       "      <th>Weight</th>\n",
       "      <th>Serial Number</th>\n",
       "      <th>Current Price</th>\n",
       "      <th>Original Price</th>\n",
       "      <th>Discount Percentage</th>\n",
       "      <th>Rating</th>\n",
       "      <th>Number OF Ratings</th>\n",
       "      <th>Battery Life (Days)</th>\n",
       "    </tr>\n",
       "  </thead>\n",
       "  <tbody>\n",
       "    <tr>\n",
       "      <th>253</th>\n",
       "      <td>garmin</td>\n",
       "      <td>Forerunner 255, GPS Running Smartwatch, Advanc...</td>\n",
       "      <td>Circle</td>\n",
       "      <td>Grey</td>\n",
       "      <td>Silicon</td>\n",
       "      <td>No</td>\n",
       "      <td>Yes</td>\n",
       "      <td>1.3</td>\n",
       "      <td>20-35</td>\n",
       "      <td>253.0</td>\n",
       "      <td>39490.0</td>\n",
       "      <td>7999.0</td>\n",
       "      <td>54.550414</td>\n",
       "      <td>5.0</td>\n",
       "      <td>6.0</td>\n",
       "      <td>8.0</td>\n",
       "    </tr>\n",
       "    <tr>\n",
       "      <th>255</th>\n",
       "      <td>garmin</td>\n",
       "      <td>Forerunner 245 Music, GPS Running Smartwatch, ...</td>\n",
       "      <td>Circle</td>\n",
       "      <td>Red</td>\n",
       "      <td>Silicon</td>\n",
       "      <td>No</td>\n",
       "      <td>Yes</td>\n",
       "      <td>1.2</td>\n",
       "      <td>20-35</td>\n",
       "      <td>255.0</td>\n",
       "      <td>24990.0</td>\n",
       "      <td>36490.0</td>\n",
       "      <td>31.515484</td>\n",
       "      <td>4.4</td>\n",
       "      <td>43.0</td>\n",
       "      <td>22.0</td>\n",
       "    </tr>\n",
       "    <tr>\n",
       "      <th>256</th>\n",
       "      <td>garmin</td>\n",
       "      <td>Forerunner 745, GPS Multisport Watch, Training...</td>\n",
       "      <td>Circle</td>\n",
       "      <td>Red</td>\n",
       "      <td>Silicon</td>\n",
       "      <td>No</td>\n",
       "      <td>Yes</td>\n",
       "      <td>1.2</td>\n",
       "      <td>20-35</td>\n",
       "      <td>256.0</td>\n",
       "      <td>34990.0</td>\n",
       "      <td>51990.0</td>\n",
       "      <td>32.698596</td>\n",
       "      <td>4.3</td>\n",
       "      <td>6.0</td>\n",
       "      <td>22.0</td>\n",
       "    </tr>\n",
       "    <tr>\n",
       "      <th>259</th>\n",
       "      <td>garmin</td>\n",
       "      <td>Forerunner 955 Solar charging upto 20 days, HR...</td>\n",
       "      <td>Circle</td>\n",
       "      <td>White</td>\n",
       "      <td>Silicon</td>\n",
       "      <td>No</td>\n",
       "      <td>Yes</td>\n",
       "      <td>1.3</td>\n",
       "      <td>75+</td>\n",
       "      <td>259.0</td>\n",
       "      <td>67490.0</td>\n",
       "      <td>7999.0</td>\n",
       "      <td>54.550414</td>\n",
       "      <td>4.7</td>\n",
       "      <td>996.0</td>\n",
       "      <td>8.0</td>\n",
       "    </tr>\n",
       "    <tr>\n",
       "      <th>260</th>\n",
       "      <td>garmin</td>\n",
       "      <td>Forerunner 55, GPS Smartwatch, upto 2 Weeks of...</td>\n",
       "      <td>Circle</td>\n",
       "      <td>Blue</td>\n",
       "      <td>Silicon</td>\n",
       "      <td>No</td>\n",
       "      <td>Yes</td>\n",
       "      <td>1.0</td>\n",
       "      <td>20-35</td>\n",
       "      <td>260.0</td>\n",
       "      <td>20990.0</td>\n",
       "      <td>7999.0</td>\n",
       "      <td>54.550414</td>\n",
       "      <td>4.2</td>\n",
       "      <td>61.0</td>\n",
       "      <td>22.0</td>\n",
       "    </tr>\n",
       "    <tr>\n",
       "      <th>263</th>\n",
       "      <td>garmin</td>\n",
       "      <td>Instinct 2 Solar, Rugged Outdoor SmartWatch, M...</td>\n",
       "      <td>Circle</td>\n",
       "      <td>Blue</td>\n",
       "      <td>Silicon</td>\n",
       "      <td>No</td>\n",
       "      <td>Yes</td>\n",
       "      <td>0.9</td>\n",
       "      <td>20-35</td>\n",
       "      <td>263.0</td>\n",
       "      <td>44990.0</td>\n",
       "      <td>50490.0</td>\n",
       "      <td>10.893246</td>\n",
       "      <td>4.0</td>\n",
       "      <td>6.0</td>\n",
       "      <td>17.5</td>\n",
       "    </tr>\n",
       "    <tr>\n",
       "      <th>264</th>\n",
       "      <td>garmin</td>\n",
       "      <td>Instinct Esports Edition, Broadcast stress lev...</td>\n",
       "      <td>Circle</td>\n",
       "      <td>Black</td>\n",
       "      <td>Silicon</td>\n",
       "      <td>No</td>\n",
       "      <td>Yes</td>\n",
       "      <td>0.9</td>\n",
       "      <td>20-35</td>\n",
       "      <td>264.0</td>\n",
       "      <td>22990.0</td>\n",
       "      <td>31490.0</td>\n",
       "      <td>26.992696</td>\n",
       "      <td>4.1</td>\n",
       "      <td>20.0</td>\n",
       "      <td>8.0</td>\n",
       "    </tr>\n",
       "    <tr>\n",
       "      <th>265</th>\n",
       "      <td>garmin</td>\n",
       "      <td>Instinct 2, Battery Upto 28 days, Tracback Rou...</td>\n",
       "      <td>Circle</td>\n",
       "      <td>Black</td>\n",
       "      <td>Silicon</td>\n",
       "      <td>No</td>\n",
       "      <td>Yes</td>\n",
       "      <td>0.9</td>\n",
       "      <td>20-35</td>\n",
       "      <td>265.0</td>\n",
       "      <td>33490.0</td>\n",
       "      <td>36990.0</td>\n",
       "      <td>9.462017</td>\n",
       "      <td>4.6</td>\n",
       "      <td>5.0</td>\n",
       "      <td>17.5</td>\n",
       "    </tr>\n",
       "    <tr>\n",
       "      <th>268</th>\n",
       "      <td>garmin</td>\n",
       "      <td>Vivomove Sports</td>\n",
       "      <td>Circle</td>\n",
       "      <td>Brown</td>\n",
       "      <td>Silicon</td>\n",
       "      <td>No</td>\n",
       "      <td>Yes</td>\n",
       "      <td>18.5</td>\n",
       "      <td>20-35</td>\n",
       "      <td>268.0</td>\n",
       "      <td>20490.0</td>\n",
       "      <td>7999.0</td>\n",
       "      <td>54.550414</td>\n",
       "      <td>5.0</td>\n",
       "      <td>3.0</td>\n",
       "      <td>3.5</td>\n",
       "    </tr>\n",
       "    <tr>\n",
       "      <th>271</th>\n",
       "      <td>garmin</td>\n",
       "      <td>Instinct 2 Solar, Battery Up to 28 days/Unlimi...</td>\n",
       "      <td>Circle</td>\n",
       "      <td>Black</td>\n",
       "      <td>Silicon</td>\n",
       "      <td>No</td>\n",
       "      <td>Yes</td>\n",
       "      <td>0.9</td>\n",
       "      <td>20-35</td>\n",
       "      <td>271.0</td>\n",
       "      <td>44990.0</td>\n",
       "      <td>46990.0</td>\n",
       "      <td>4.256225</td>\n",
       "      <td>4.0</td>\n",
       "      <td>6.0</td>\n",
       "      <td>17.5</td>\n",
       "    </tr>\n",
       "    <tr>\n",
       "      <th>272</th>\n",
       "      <td>garmin</td>\n",
       "      <td>Forerunner 945, Premium GPS Running/Triathlon ...</td>\n",
       "      <td>Circle</td>\n",
       "      <td>Black</td>\n",
       "      <td>Silicon</td>\n",
       "      <td>No</td>\n",
       "      <td>Yes</td>\n",
       "      <td>1.9</td>\n",
       "      <td>20-35</td>\n",
       "      <td>272.0</td>\n",
       "      <td>46990.0</td>\n",
       "      <td>62490.0</td>\n",
       "      <td>24.803969</td>\n",
       "      <td>4.1</td>\n",
       "      <td>10.0</td>\n",
       "      <td>8.0</td>\n",
       "    </tr>\n",
       "    <tr>\n",
       "      <th>273</th>\n",
       "      <td>garmin</td>\n",
       "      <td>Instinct 2S, Battery Upto 21 days, Health Snap...</td>\n",
       "      <td>Circle</td>\n",
       "      <td>Red</td>\n",
       "      <td>Silicon</td>\n",
       "      <td>No</td>\n",
       "      <td>No</td>\n",
       "      <td>0.8</td>\n",
       "      <td>20-35</td>\n",
       "      <td>273.0</td>\n",
       "      <td>33490.0</td>\n",
       "      <td>39490.0</td>\n",
       "      <td>15.193720</td>\n",
       "      <td>4.7</td>\n",
       "      <td>109.0</td>\n",
       "      <td>17.5</td>\n",
       "    </tr>\n",
       "    <tr>\n",
       "      <th>276</th>\n",
       "      <td>garmin</td>\n",
       "      <td>Instinct 2S Solar, Battery Upto 21 days/51 day...</td>\n",
       "      <td>Circle</td>\n",
       "      <td>Green</td>\n",
       "      <td>Silicon</td>\n",
       "      <td>No</td>\n",
       "      <td>Yes</td>\n",
       "      <td>0.8</td>\n",
       "      <td>20-35</td>\n",
       "      <td>276.0</td>\n",
       "      <td>44990.0</td>\n",
       "      <td>50490.0</td>\n",
       "      <td>10.893246</td>\n",
       "      <td>4.7</td>\n",
       "      <td>996.0</td>\n",
       "      <td>17.5</td>\n",
       "    </tr>\n",
       "    <tr>\n",
       "      <th>279</th>\n",
       "      <td>garmin</td>\n",
       "      <td>Instinct 2, Rugged Outdoor Watch with GPS, Bui...</td>\n",
       "      <td>Circle</td>\n",
       "      <td>Grey</td>\n",
       "      <td>Silicon</td>\n",
       "      <td>No</td>\n",
       "      <td>Yes</td>\n",
       "      <td>0.9</td>\n",
       "      <td>20-35</td>\n",
       "      <td>279.0</td>\n",
       "      <td>39490.0</td>\n",
       "      <td>44990.0</td>\n",
       "      <td>12.224939</td>\n",
       "      <td>4.7</td>\n",
       "      <td>109.0</td>\n",
       "      <td>17.5</td>\n",
       "    </tr>\n",
       "    <tr>\n",
       "      <th>280</th>\n",
       "      <td>garmin</td>\n",
       "      <td>Instinct 2 Solar, Tactical Rugged SmartWatch, ...</td>\n",
       "      <td>Circle</td>\n",
       "      <td>Brown</td>\n",
       "      <td>Silicon</td>\n",
       "      <td>No</td>\n",
       "      <td>Yes</td>\n",
       "      <td>0.9</td>\n",
       "      <td>20-35</td>\n",
       "      <td>280.0</td>\n",
       "      <td>50490.0</td>\n",
       "      <td>55990.0</td>\n",
       "      <td>9.823183</td>\n",
       "      <td>4.7</td>\n",
       "      <td>109.0</td>\n",
       "      <td>17.5</td>\n",
       "    </tr>\n",
       "    <tr>\n",
       "      <th>299</th>\n",
       "      <td>fossil</td>\n",
       "      <td>Fb-01 Hybrid Smartwatch Hr</td>\n",
       "      <td>Circle</td>\n",
       "      <td>Black</td>\n",
       "      <td>Silicon</td>\n",
       "      <td>No</td>\n",
       "      <td>Yes</td>\n",
       "      <td>1.1</td>\n",
       "      <td>20-35</td>\n",
       "      <td>299.0</td>\n",
       "      <td>9995.0</td>\n",
       "      <td>14995.0</td>\n",
       "      <td>33.344448</td>\n",
       "      <td>3.9</td>\n",
       "      <td>57.0</td>\n",
       "      <td>22.0</td>\n",
       "    </tr>\n",
       "    <tr>\n",
       "      <th>304</th>\n",
       "      <td>fossil</td>\n",
       "      <td>Jacqueline</td>\n",
       "      <td>Circle</td>\n",
       "      <td>Black</td>\n",
       "      <td>Stainless Steel</td>\n",
       "      <td>No</td>\n",
       "      <td>Yes</td>\n",
       "      <td>1.3</td>\n",
       "      <td>20-35</td>\n",
       "      <td>304.0</td>\n",
       "      <td>13495.0</td>\n",
       "      <td>7999.0</td>\n",
       "      <td>54.550414</td>\n",
       "      <td>4.7</td>\n",
       "      <td>996.0</td>\n",
       "      <td>17.5</td>\n",
       "    </tr>\n",
       "    <tr>\n",
       "      <th>309</th>\n",
       "      <td>fossil</td>\n",
       "      <td>Commuter</td>\n",
       "      <td>Circle</td>\n",
       "      <td>Black</td>\n",
       "      <td>Leather</td>\n",
       "      <td>No</td>\n",
       "      <td>Yes</td>\n",
       "      <td>1.7</td>\n",
       "      <td>20-35</td>\n",
       "      <td>309.0</td>\n",
       "      <td>11995.0</td>\n",
       "      <td>7999.0</td>\n",
       "      <td>54.550414</td>\n",
       "      <td>4.3</td>\n",
       "      <td>4.0</td>\n",
       "      <td>17.5</td>\n",
       "    </tr>\n",
       "    <tr>\n",
       "      <th>310</th>\n",
       "      <td>fossil</td>\n",
       "      <td>Charter Hybrid HR Smartwatch</td>\n",
       "      <td>Circle</td>\n",
       "      <td>Black</td>\n",
       "      <td>Leather</td>\n",
       "      <td>No</td>\n",
       "      <td>Yes</td>\n",
       "      <td>1.2</td>\n",
       "      <td>75+</td>\n",
       "      <td>310.0</td>\n",
       "      <td>14995.0</td>\n",
       "      <td>7999.0</td>\n",
       "      <td>54.550414</td>\n",
       "      <td>3.9</td>\n",
       "      <td>41.0</td>\n",
       "      <td>3.5</td>\n",
       "    </tr>\n",
       "    <tr>\n",
       "      <th>311</th>\n",
       "      <td>fossil</td>\n",
       "      <td>Collider Hybrid HR</td>\n",
       "      <td>Circle</td>\n",
       "      <td>Grey</td>\n",
       "      <td>Stainless Steel</td>\n",
       "      <td>No</td>\n",
       "      <td>Yes</td>\n",
       "      <td>1.1</td>\n",
       "      <td>20-35</td>\n",
       "      <td>311.0</td>\n",
       "      <td>16495.0</td>\n",
       "      <td>7999.0</td>\n",
       "      <td>54.550414</td>\n",
       "      <td>4.1</td>\n",
       "      <td>123.0</td>\n",
       "      <td>3.5</td>\n",
       "    </tr>\n",
       "    <tr>\n",
       "      <th>312</th>\n",
       "      <td>fossil</td>\n",
       "      <td>Neutra Hybrid HR</td>\n",
       "      <td>Circle</td>\n",
       "      <td>Silver</td>\n",
       "      <td>Stainless Steel</td>\n",
       "      <td>No</td>\n",
       "      <td>Yes</td>\n",
       "      <td>1.1</td>\n",
       "      <td>20-35</td>\n",
       "      <td>312.0</td>\n",
       "      <td>16495.0</td>\n",
       "      <td>7999.0</td>\n",
       "      <td>54.550414</td>\n",
       "      <td>4.7</td>\n",
       "      <td>996.0</td>\n",
       "      <td>8.0</td>\n",
       "    </tr>\n",
       "    <tr>\n",
       "      <th>314</th>\n",
       "      <td>fossil</td>\n",
       "      <td>FTW1140 Q Hybrid Watch</td>\n",
       "      <td>Circle</td>\n",
       "      <td>Blue</td>\n",
       "      <td>Stainless Steel</td>\n",
       "      <td>No</td>\n",
       "      <td>Yes</td>\n",
       "      <td>1.7</td>\n",
       "      <td>20-35</td>\n",
       "      <td>314.0</td>\n",
       "      <td>13995.0</td>\n",
       "      <td>7999.0</td>\n",
       "      <td>54.550414</td>\n",
       "      <td>3.8</td>\n",
       "      <td>4.0</td>\n",
       "      <td>22.0</td>\n",
       "    </tr>\n",
       "    <tr>\n",
       "      <th>315</th>\n",
       "      <td>fossil</td>\n",
       "      <td>Q Jacqueline</td>\n",
       "      <td>Circle</td>\n",
       "      <td>Silver</td>\n",
       "      <td>Stainless Steel</td>\n",
       "      <td>No</td>\n",
       "      <td>Yes</td>\n",
       "      <td>1.3</td>\n",
       "      <td>20-35</td>\n",
       "      <td>315.0</td>\n",
       "      <td>13495.0</td>\n",
       "      <td>7999.0</td>\n",
       "      <td>54.550414</td>\n",
       "      <td>4.4</td>\n",
       "      <td>11.0</td>\n",
       "      <td>17.5</td>\n",
       "    </tr>\n",
       "    <tr>\n",
       "      <th>316</th>\n",
       "      <td>fossil</td>\n",
       "      <td>Neely</td>\n",
       "      <td>Circle</td>\n",
       "      <td>Blue</td>\n",
       "      <td>Stainless Steel</td>\n",
       "      <td>No</td>\n",
       "      <td>Yes</td>\n",
       "      <td>1.3</td>\n",
       "      <td>20-35</td>\n",
       "      <td>316.0</td>\n",
       "      <td>13495.0</td>\n",
       "      <td>7999.0</td>\n",
       "      <td>54.550414</td>\n",
       "      <td>4.7</td>\n",
       "      <td>3.0</td>\n",
       "      <td>17.5</td>\n",
       "    </tr>\n",
       "  </tbody>\n",
       "</table>\n",
       "</div>"
      ],
      "text/plain": [
       "      Brand                                         Model Name Dial Shape  \\\n",
       "253  garmin  Forerunner 255, GPS Running Smartwatch, Advanc...     Circle   \n",
       "255  garmin  Forerunner 245 Music, GPS Running Smartwatch, ...     Circle   \n",
       "256  garmin  Forerunner 745, GPS Multisport Watch, Training...     Circle   \n",
       "259  garmin  Forerunner 955 Solar charging upto 20 days, HR...     Circle   \n",
       "260  garmin  Forerunner 55, GPS Smartwatch, upto 2 Weeks of...     Circle   \n",
       "263  garmin  Instinct 2 Solar, Rugged Outdoor SmartWatch, M...     Circle   \n",
       "264  garmin  Instinct Esports Edition, Broadcast stress lev...     Circle   \n",
       "265  garmin  Instinct 2, Battery Upto 28 days, Tracback Rou...     Circle   \n",
       "268  garmin                                    Vivomove Sports     Circle   \n",
       "271  garmin  Instinct 2 Solar, Battery Up to 28 days/Unlimi...     Circle   \n",
       "272  garmin  Forerunner 945, Premium GPS Running/Triathlon ...     Circle   \n",
       "273  garmin  Instinct 2S, Battery Upto 21 days, Health Snap...     Circle   \n",
       "276  garmin  Instinct 2S Solar, Battery Upto 21 days/51 day...     Circle   \n",
       "279  garmin  Instinct 2, Rugged Outdoor Watch with GPS, Bui...     Circle   \n",
       "280  garmin  Instinct 2 Solar, Tactical Rugged SmartWatch, ...     Circle   \n",
       "299  fossil                         Fb-01 Hybrid Smartwatch Hr     Circle   \n",
       "304  fossil                                         Jacqueline     Circle   \n",
       "309  fossil                                           Commuter     Circle   \n",
       "310  fossil                       Charter Hybrid HR Smartwatch     Circle   \n",
       "311  fossil                                 Collider Hybrid HR     Circle   \n",
       "312  fossil                                   Neutra Hybrid HR     Circle   \n",
       "314  fossil                             FTW1140 Q Hybrid Watch     Circle   \n",
       "315  fossil                                       Q Jacqueline     Circle   \n",
       "316  fossil                                              Neely     Circle   \n",
       "\n",
       "    Strap Color   Strap Material Touchscreen Bluetooth  Display Size Weight  \\\n",
       "253        Grey          Silicon          No       Yes           1.3  20-35   \n",
       "255         Red          Silicon          No       Yes           1.2  20-35   \n",
       "256         Red          Silicon          No       Yes           1.2  20-35   \n",
       "259       White          Silicon          No       Yes           1.3    75+   \n",
       "260        Blue          Silicon          No       Yes           1.0  20-35   \n",
       "263        Blue          Silicon          No       Yes           0.9  20-35   \n",
       "264       Black          Silicon          No       Yes           0.9  20-35   \n",
       "265       Black          Silicon          No       Yes           0.9  20-35   \n",
       "268       Brown          Silicon          No       Yes          18.5  20-35   \n",
       "271       Black          Silicon          No       Yes           0.9  20-35   \n",
       "272       Black          Silicon          No       Yes           1.9  20-35   \n",
       "273         Red          Silicon          No        No           0.8  20-35   \n",
       "276       Green          Silicon          No       Yes           0.8  20-35   \n",
       "279        Grey          Silicon          No       Yes           0.9  20-35   \n",
       "280       Brown          Silicon          No       Yes           0.9  20-35   \n",
       "299       Black          Silicon          No       Yes           1.1  20-35   \n",
       "304       Black  Stainless Steel          No       Yes           1.3  20-35   \n",
       "309       Black          Leather          No       Yes           1.7  20-35   \n",
       "310       Black          Leather          No       Yes           1.2    75+   \n",
       "311        Grey  Stainless Steel          No       Yes           1.1  20-35   \n",
       "312      Silver  Stainless Steel          No       Yes           1.1  20-35   \n",
       "314        Blue  Stainless Steel          No       Yes           1.7  20-35   \n",
       "315      Silver  Stainless Steel          No       Yes           1.3  20-35   \n",
       "316        Blue  Stainless Steel          No       Yes           1.3  20-35   \n",
       "\n",
       "     Serial Number  Current Price  Original Price  Discount Percentage  \\\n",
       "253          253.0        39490.0          7999.0            54.550414   \n",
       "255          255.0        24990.0         36490.0            31.515484   \n",
       "256          256.0        34990.0         51990.0            32.698596   \n",
       "259          259.0        67490.0          7999.0            54.550414   \n",
       "260          260.0        20990.0          7999.0            54.550414   \n",
       "263          263.0        44990.0         50490.0            10.893246   \n",
       "264          264.0        22990.0         31490.0            26.992696   \n",
       "265          265.0        33490.0         36990.0             9.462017   \n",
       "268          268.0        20490.0          7999.0            54.550414   \n",
       "271          271.0        44990.0         46990.0             4.256225   \n",
       "272          272.0        46990.0         62490.0            24.803969   \n",
       "273          273.0        33490.0         39490.0            15.193720   \n",
       "276          276.0        44990.0         50490.0            10.893246   \n",
       "279          279.0        39490.0         44990.0            12.224939   \n",
       "280          280.0        50490.0         55990.0             9.823183   \n",
       "299          299.0         9995.0         14995.0            33.344448   \n",
       "304          304.0        13495.0          7999.0            54.550414   \n",
       "309          309.0        11995.0          7999.0            54.550414   \n",
       "310          310.0        14995.0          7999.0            54.550414   \n",
       "311          311.0        16495.0          7999.0            54.550414   \n",
       "312          312.0        16495.0          7999.0            54.550414   \n",
       "314          314.0        13995.0          7999.0            54.550414   \n",
       "315          315.0        13495.0          7999.0            54.550414   \n",
       "316          316.0        13495.0          7999.0            54.550414   \n",
       "\n",
       "     Rating  Number OF Ratings  Battery Life (Days)  \n",
       "253     5.0                6.0                  8.0  \n",
       "255     4.4               43.0                 22.0  \n",
       "256     4.3                6.0                 22.0  \n",
       "259     4.7              996.0                  8.0  \n",
       "260     4.2               61.0                 22.0  \n",
       "263     4.0                6.0                 17.5  \n",
       "264     4.1               20.0                  8.0  \n",
       "265     4.6                5.0                 17.5  \n",
       "268     5.0                3.0                  3.5  \n",
       "271     4.0                6.0                 17.5  \n",
       "272     4.1               10.0                  8.0  \n",
       "273     4.7              109.0                 17.5  \n",
       "276     4.7              996.0                 17.5  \n",
       "279     4.7              109.0                 17.5  \n",
       "280     4.7              109.0                 17.5  \n",
       "299     3.9               57.0                 22.0  \n",
       "304     4.7              996.0                 17.5  \n",
       "309     4.3                4.0                 17.5  \n",
       "310     3.9               41.0                  3.5  \n",
       "311     4.1              123.0                  3.5  \n",
       "312     4.7              996.0                  8.0  \n",
       "314     3.8                4.0                 22.0  \n",
       "315     4.4               11.0                 17.5  \n",
       "316     4.7                3.0                 17.5  "
      ]
     },
     "execution_count": 41,
     "metadata": {},
     "output_type": "execute_result"
    }
   ],
   "source": [
    "print(\"Total smart watch with no touchscreen feature\",len(updatedData[updatedData['Touchscreen']=='No']))\n",
    "print(\"Details of no touchsreen smart watch\")\n",
    "updatedData[updatedData['Touchscreen']=='No']"
   ]
  },
  {
   "cell_type": "markdown",
   "id": "acab0fec",
   "metadata": {},
   "source": [
    "The above table provides insights that only garmin and fossils are the brand that provide without touch screen smart watch\n",
    "and most of these have circula dial shape \n",
    "\n",
    "The other important fact to notice is that many of these watches have very good rating and battery life"
   ]
  },
  {
   "cell_type": "code",
   "execution_count": 190,
   "id": "b9c469ea",
   "metadata": {},
   "outputs": [
    {
     "data": {
      "image/png": "[encoded data removed]",
      "text/plain": [
       "<Figure size 720x432 with 1 Axes>"
      ]
     },
     "metadata": {
      "needs_background": "light"
     },
     "output_type": "display_data"
    }
   ],
   "source": [
    "plt.figure(figsize=(10,6))\n",
    "sns.countplot(x=updatedData['Bluetooth'])\n",
    "plt.xticks(rotation=90)\n",
    "plt.show()"
   ]
  },
  {
   "cell_type": "markdown",
   "id": "1738419d",
   "metadata": {},
   "source": [
    "Number of watches that contain no Bluetooth feature are very less"
   ]
  },
  {
   "cell_type": "code",
   "execution_count": 191,
   "id": "f580234f",
   "metadata": {},
   "outputs": [
    {
     "data": {
      "text/html": [
       "<div>\n",
       "<style scoped>\n",
       "    .dataframe tbody tr th:only-of-type {\n",
       "        vertical-align: middle;\n",
       "    }\n",
       "\n",
       "    .dataframe tbody tr th {\n",
       "        vertical-align: top;\n",
       "    }\n",
       "\n",
       "    .dataframe thead th {\n",
       "        text-align: right;\n",
       "    }\n",
       "</style>\n",
       "<table border=\"1\" class=\"dataframe\">\n",
       "  <thead>\n",
       "    <tr style=\"text-align: right;\">\n",
       "      <th></th>\n",
       "      <th>Brand</th>\n",
       "      <th>Model Name</th>\n",
       "      <th>Dial Shape</th>\n",
       "      <th>Strap Color</th>\n",
       "      <th>Strap Material</th>\n",
       "      <th>Touchscreen</th>\n",
       "      <th>Bluetooth</th>\n",
       "      <th>Display Size</th>\n",
       "      <th>Weight</th>\n",
       "      <th>Serial Number</th>\n",
       "      <th>Current Price</th>\n",
       "      <th>Original Price</th>\n",
       "      <th>Discount Percentage</th>\n",
       "      <th>Rating</th>\n",
       "      <th>Number OF Ratings</th>\n",
       "      <th>Battery Life (Days)</th>\n",
       "    </tr>\n",
       "  </thead>\n",
       "  <tbody>\n",
       "    <tr>\n",
       "      <th>218</th>\n",
       "      <td>fitbit</td>\n",
       "      <td>fitbit charge 5 blue</td>\n",
       "      <td>Rectangle</td>\n",
       "      <td>Blue</td>\n",
       "      <td>Silicon</td>\n",
       "      <td>Yes</td>\n",
       "      <td>No</td>\n",
       "      <td>1.3</td>\n",
       "      <td>20-35</td>\n",
       "      <td>218.0</td>\n",
       "      <td>14999.0</td>\n",
       "      <td>7999.0</td>\n",
       "      <td>54.550414</td>\n",
       "      <td>4.7</td>\n",
       "      <td>5.0</td>\n",
       "      <td>3.5</td>\n",
       "    </tr>\n",
       "    <tr>\n",
       "      <th>219</th>\n",
       "      <td>fitbit</td>\n",
       "      <td>fitbit charge 5 black</td>\n",
       "      <td>Rectangle</td>\n",
       "      <td>Black</td>\n",
       "      <td>Silicon</td>\n",
       "      <td>Yes</td>\n",
       "      <td>No</td>\n",
       "      <td>0.2</td>\n",
       "      <td>20-35</td>\n",
       "      <td>219.0</td>\n",
       "      <td>14999.0</td>\n",
       "      <td>7999.0</td>\n",
       "      <td>54.550414</td>\n",
       "      <td>4.7</td>\n",
       "      <td>6.0</td>\n",
       "      <td>3.5</td>\n",
       "    </tr>\n",
       "    <tr>\n",
       "      <th>222</th>\n",
       "      <td>fitbit</td>\n",
       "      <td>FitbitInspire 3 Health &amp; Fitness Tracker (Lila...</td>\n",
       "      <td>Rectangle</td>\n",
       "      <td>Passion Pink</td>\n",
       "      <td>Rubber</td>\n",
       "      <td>Yes</td>\n",
       "      <td>No</td>\n",
       "      <td>0.2</td>\n",
       "      <td>20-35</td>\n",
       "      <td>222.0</td>\n",
       "      <td>8999.0</td>\n",
       "      <td>7999.0</td>\n",
       "      <td>54.550414</td>\n",
       "      <td>4.7</td>\n",
       "      <td>996.0</td>\n",
       "      <td>3.5</td>\n",
       "    </tr>\n",
       "    <tr>\n",
       "      <th>273</th>\n",
       "      <td>garmin</td>\n",
       "      <td>Instinct 2S, Battery Upto 21 days, Health Snap...</td>\n",
       "      <td>Circle</td>\n",
       "      <td>Red</td>\n",
       "      <td>Silicon</td>\n",
       "      <td>No</td>\n",
       "      <td>No</td>\n",
       "      <td>0.8</td>\n",
       "      <td>20-35</td>\n",
       "      <td>273.0</td>\n",
       "      <td>33490.0</td>\n",
       "      <td>39490.0</td>\n",
       "      <td>15.193720</td>\n",
       "      <td>4.7</td>\n",
       "      <td>109.0</td>\n",
       "      <td>17.5</td>\n",
       "    </tr>\n",
       "  </tbody>\n",
       "</table>\n",
       "</div>"
      ],
      "text/plain": [
       "      Brand                                         Model Name Dial Shape  \\\n",
       "218  fitbit                               fitbit charge 5 blue  Rectangle   \n",
       "219  fitbit                              fitbit charge 5 black  Rectangle   \n",
       "222  fitbit  FitbitInspire 3 Health & Fitness Tracker (Lila...  Rectangle   \n",
       "273  garmin  Instinct 2S, Battery Upto 21 days, Health Snap...     Circle   \n",
       "\n",
       "      Strap Color Strap Material Touchscreen Bluetooth  Display Size Weight  \\\n",
       "218          Blue        Silicon         Yes        No           1.3  20-35   \n",
       "219         Black        Silicon         Yes        No           0.2  20-35   \n",
       "222  Passion Pink         Rubber         Yes        No           0.2  20-35   \n",
       "273           Red        Silicon          No        No           0.8  20-35   \n",
       "\n",
       "     Serial Number  Current Price  Original Price  Discount Percentage  \\\n",
       "218          218.0        14999.0          7999.0            54.550414   \n",
       "219          219.0        14999.0          7999.0            54.550414   \n",
       "222          222.0         8999.0          7999.0            54.550414   \n",
       "273          273.0        33490.0         39490.0            15.193720   \n",
       "\n",
       "     Rating  Number OF Ratings  Battery Life (Days)  \n",
       "218     4.7                5.0                  3.5  \n",
       "219     4.7                6.0                  3.5  \n",
       "222     4.7              996.0                  3.5  \n",
       "273     4.7              109.0                 17.5  "
      ]
     },
     "execution_count": 191,
     "metadata": {},
     "output_type": "execute_result"
    }
   ],
   "source": [
    "updatedData[updatedData['Bluetooth']=='No']"
   ]
  },
  {
   "cell_type": "markdown",
   "id": "81b7baf5",
   "metadata": {},
   "source": [
    "Only four smart watches are there with no  bluetooth feature "
   ]
  },
  {
   "cell_type": "markdown",
   "id": "8c11f0bf",
   "metadata": {},
   "source": [
    "### Checking whether the Dial shape, Strap color , Touchscreen feature, Bluetooth, Strap Material, Dial shape and Brand impact ratings or not"
   ]
  },
  {
   "cell_type": "code",
   "execution_count": 199,
   "id": "4d53fe8a",
   "metadata": {},
   "outputs": [
    {
     "name": "stderr",
     "output_type": "stream",
     "text": [
      "C:\\Users\\rishw\\anaconda3\\lib\\site-packages\\seaborn\\distributions.py:2619: FutureWarning: `distplot` is a deprecated function and will be removed in a future version. Please adapt your code to use either `displot` (a figure-level function with similar flexibility) or `histplot` (an axes-level function for histograms).\n",
      "  warnings.warn(msg, FutureWarning)\n"
     ]
    },
    {
     "data": {
      "image/png": "[encoded data removed]",
      "text/plain": [
       "<Figure size 720x576 with 1 Axes>"
      ]
     },
     "metadata": {
      "needs_background": "light"
     },
     "output_type": "display_data"
    }
   ],
   "source": [
    "plt.figure(figsize=(10,8))\n",
    "plt.title('Distribution of Rating')\n",
    "sns.distplot(x=updatedData[\"Rating\"])\n",
    "plt.show()"
   ]
  },
  {
   "cell_type": "markdown",
   "id": "b9654d6a",
   "metadata": {},
   "source": [
    "The above curve is not bell shape,it appears that the ratings are not normally distributed"
   ]
  },
  {
   "cell_type": "code",
   "execution_count": 200,
   "id": "2c29b5a4",
   "metadata": {},
   "outputs": [
    {
     "data": {
      "text/plain": [
       "ShapiroResult(statistic=0.8609055876731873, pvalue=1.4352205305724152e-19)"
      ]
     },
     "execution_count": 200,
     "metadata": {},
     "output_type": "execute_result"
    }
   ],
   "source": [
    "stats.shapiro(updatedData['Rating']) # checking normally distribution of rating"
   ]
  },
  {
   "cell_type": "markdown",
   "id": "1f6128fe",
   "metadata": {},
   "source": [
    "Normality fails, cannot go ahead with parametric test. Need to choose substitue of ANNOVA that is Kruskal test for the \n",
    "analysis"
   ]
  },
  {
   "cell_type": "markdown",
   "id": "ca1c7770",
   "metadata": {},
   "source": [
    "### Does touchscreen feature impacts ratings?"
   ]
  },
  {
   "cell_type": "code",
   "execution_count": 45,
   "id": "7132e886",
   "metadata": {},
   "outputs": [],
   "source": [
    "# checking rating with TouchScree \n",
    "# Creating nulll and alternate hypothesis\n",
    "# Ho: touchscreen and non touchscreen feature both have same rating mean\n",
    "# H1: touchscreen and non touchscreen feaure both do not contain same rating mean"
   ]
  },
  {
   "cell_type": "code",
   "execution_count": 46,
   "id": "9ac140f7",
   "metadata": {},
   "outputs": [],
   "source": [
    "yes = updatedData[updatedData['Touchscreen']=='Yes']['Rating']\n",
    "no  = updatedData[updatedData['Touchscreen']=='No']['Rating']"
   ]
  },
  {
   "cell_type": "code",
   "execution_count": 47,
   "id": "03c7caf3",
   "metadata": {},
   "outputs": [
    {
     "data": {
      "text/plain": [
       "KruskalResult(statistic=13.244388765951213, pvalue=0.00027339704448301535)"
      ]
     },
     "execution_count": 47,
     "metadata": {},
     "output_type": "execute_result"
    }
   ],
   "source": [
    "stats.kruskal(yes, no) # the test make it clear that there is a impact on rating with touchscreen feature \n",
    "# here p value of kruskal test is very less than 0.05 (level of significance)."
   ]
  },
  {
   "cell_type": "markdown",
   "id": "be502731",
   "metadata": {},
   "source": [
    "With Kruskal test it is concluded that p value is very less than 0.05, so rejecting null hypothesis , which conveys touchscreen feature impacts rating"
   ]
  },
  {
   "cell_type": "code",
   "execution_count": 201,
   "id": "96620c12",
   "metadata": {},
   "outputs": [
    {
     "data": {
      "text/html": [
       "<div>\n",
       "<style scoped>\n",
       "    .dataframe tbody tr th:only-of-type {\n",
       "        vertical-align: middle;\n",
       "    }\n",
       "\n",
       "    .dataframe tbody tr th {\n",
       "        vertical-align: top;\n",
       "    }\n",
       "\n",
       "    .dataframe thead th {\n",
       "        text-align: right;\n",
       "    }\n",
       "</style>\n",
       "<table border=\"1\" class=\"dataframe\">\n",
       "  <thead>\n",
       "    <tr style=\"text-align: right;\">\n",
       "      <th></th>\n",
       "      <th>Rating</th>\n",
       "    </tr>\n",
       "    <tr>\n",
       "      <th>Touchscreen</th>\n",
       "      <th></th>\n",
       "    </tr>\n",
       "  </thead>\n",
       "  <tbody>\n",
       "    <tr>\n",
       "      <th>No</th>\n",
       "      <td>4.404167</td>\n",
       "    </tr>\n",
       "    <tr>\n",
       "      <th>Yes</th>\n",
       "      <td>4.011268</td>\n",
       "    </tr>\n",
       "  </tbody>\n",
       "</table>\n",
       "</div>"
      ],
      "text/plain": [
       "               Rating\n",
       "Touchscreen          \n",
       "No           4.404167\n",
       "Yes          4.011268"
      ]
     },
     "execution_count": 201,
     "metadata": {},
     "output_type": "execute_result"
    }
   ],
   "source": [
    "pd.pivot_table(updatedData, values ='Rating', index='Touchscreen')"
   ]
  },
  {
   "cell_type": "markdown",
   "id": "53730b35",
   "metadata": {},
   "source": [
    "Above data conveys that touchscreen feature decrease rating."
   ]
  },
  {
   "cell_type": "markdown",
   "id": "df223052",
   "metadata": {},
   "source": [
    "### Does bluetooth feature impacts ratings?"
   ]
  },
  {
   "cell_type": "code",
   "execution_count": 202,
   "id": "c48cfad3",
   "metadata": {},
   "outputs": [
    {
     "data": {
      "text/plain": [
       "KruskalResult(statistic=9.29159255269179, pvalue=0.0023020794103591445)"
      ]
     },
     "execution_count": 202,
     "metadata": {},
     "output_type": "execute_result"
    }
   ],
   "source": [
    "yesBluetooth= updatedData[updatedData['Bluetooth']=='Yes']['Rating']\n",
    "noBluetooth  = updatedData[updatedData['Bluetooth']=='No']['Rating']\n",
    "stats.kruskal(yesBluetooth,noBluetooth) # impact of bluetooth feature \n"
   ]
  },
  {
   "cell_type": "markdown",
   "id": "c7a9172a",
   "metadata": {},
   "source": [
    "P value of Kruskal test is very less compare to level of significance 0.05, rejecting null hypothesis, it means bluetooth feature \n",
    "impacts rating"
   ]
  },
  {
   "cell_type": "code",
   "execution_count": 204,
   "id": "8373a6b5",
   "metadata": {},
   "outputs": [
    {
     "data": {
      "text/html": [
       "<div>\n",
       "<style scoped>\n",
       "    .dataframe tbody tr th:only-of-type {\n",
       "        vertical-align: middle;\n",
       "    }\n",
       "\n",
       "    .dataframe tbody tr th {\n",
       "        vertical-align: top;\n",
       "    }\n",
       "\n",
       "    .dataframe thead th {\n",
       "        text-align: right;\n",
       "    }\n",
       "</style>\n",
       "<table border=\"1\" class=\"dataframe\">\n",
       "  <thead>\n",
       "    <tr style=\"text-align: right;\">\n",
       "      <th></th>\n",
       "      <th>Rating</th>\n",
       "    </tr>\n",
       "    <tr>\n",
       "      <th>Bluetooth</th>\n",
       "      <th></th>\n",
       "    </tr>\n",
       "  </thead>\n",
       "  <tbody>\n",
       "    <tr>\n",
       "      <th>No</th>\n",
       "      <td>4.700000</td>\n",
       "    </tr>\n",
       "    <tr>\n",
       "      <th>Yes</th>\n",
       "      <td>4.026233</td>\n",
       "    </tr>\n",
       "  </tbody>\n",
       "</table>\n",
       "</div>"
      ],
      "text/plain": [
       "             Rating\n",
       "Bluetooth          \n",
       "No         4.700000\n",
       "Yes        4.026233"
      ]
     },
     "execution_count": 204,
     "metadata": {},
     "output_type": "execute_result"
    }
   ],
   "source": [
    "pd.pivot_table(updatedData, values ='Rating', index='Bluetooth')"
   ]
  },
  {
   "cell_type": "markdown",
   "id": "0a4fcce3",
   "metadata": {},
   "source": [
    "Above analysis conveys that bluetooth feature impacts rating, providing this feature decreases rating"
   ]
  },
  {
   "cell_type": "markdown",
   "id": "b0e6937a",
   "metadata": {},
   "source": [
    "### Does dial shape impacts rating?"
   ]
  },
  {
   "cell_type": "code",
   "execution_count": 49,
   "id": "068e523e",
   "metadata": {},
   "outputs": [
    {
     "data": {
      "text/plain": [
       "Circle          254\n",
       "Square          101\n",
       "Rectangle        87\n",
       "Curved            6\n",
       "Contemporary      1\n",
       "Oval              1\n",
       "Name: Dial Shape, dtype: int64"
      ]
     },
     "execution_count": 49,
     "metadata": {},
     "output_type": "execute_result"
    }
   ],
   "source": [
    "updatedData['Dial Shape'].value_counts()"
   ]
  },
  {
   "cell_type": "code",
   "execution_count": 206,
   "id": "a18243ad",
   "metadata": {},
   "outputs": [
    {
     "name": "stdout",
     "output_type": "stream",
     "text": [
      "Kruskal Test\n"
     ]
    },
    {
     "data": {
      "text/plain": [
       "KruskalResult(statistic=30.824934573122142, pvalue=1.0143039972827095e-05)"
      ]
     },
     "execution_count": 206,
     "metadata": {},
     "output_type": "execute_result"
    }
   ],
   "source": [
    "dialCircle = updatedData[updatedData['Dial Shape']=='Circle']['Rating']\n",
    "dialSquare =updatedData[updatedData['Dial Shape']=='Square']['Rating']\n",
    "dialRectangle=updatedData[updatedData['Dial Shape']=='Rectangle']['Rating']\n",
    "dialCurved=updatedData[updatedData['Dial Shape']=='Curved']['Rating']\n",
    "dialContemp=updatedData[updatedData['Dial Shape']=='Contemporary']['Rating']\n",
    "dialOval=updatedData[updatedData['Dial Shape']=='Oval']['Rating']\n",
    "print(\"Kruskal Test\")\n",
    "stats.kruskal(dialCircle,dialSquare, dialRectangle,dialCurved, dialContemp,dialOval)\n",
    "# dial shape impacts rating"
   ]
  },
  {
   "cell_type": "markdown",
   "id": "16a707ba",
   "metadata": {},
   "source": [
    "Very less p value conveys that dial shape effects rating. To investigate further we are suing post hoc analysis with Dunn's test"
   ]
  },
  {
   "cell_type": "code",
   "execution_count": 208,
   "id": "c009d0f2",
   "metadata": {},
   "outputs": [
    {
     "data": {
      "text/html": [
       "<div>\n",
       "<style scoped>\n",
       "    .dataframe tbody tr th:only-of-type {\n",
       "        vertical-align: middle;\n",
       "    }\n",
       "\n",
       "    .dataframe tbody tr th {\n",
       "        vertical-align: top;\n",
       "    }\n",
       "\n",
       "    .dataframe thead th {\n",
       "        text-align: right;\n",
       "    }\n",
       "</style>\n",
       "<table border=\"1\" class=\"dataframe\">\n",
       "  <thead>\n",
       "    <tr style=\"text-align: right;\">\n",
       "      <th></th>\n",
       "      <th>Circle</th>\n",
       "      <th>Contemporary</th>\n",
       "      <th>Curved</th>\n",
       "      <th>Oval</th>\n",
       "      <th>Rectangle</th>\n",
       "      <th>Square</th>\n",
       "    </tr>\n",
       "  </thead>\n",
       "  <tbody>\n",
       "    <tr>\n",
       "      <th>Circle</th>\n",
       "      <td>1.000000</td>\n",
       "      <td>0.715871</td>\n",
       "      <td>0.122331</td>\n",
       "      <td>0.129414</td>\n",
       "      <td>1.637974e-02</td>\n",
       "      <td>2.549663e-04</td>\n",
       "    </tr>\n",
       "    <tr>\n",
       "      <th>Contemporary</th>\n",
       "      <td>0.715871</td>\n",
       "      <td>1.000000</td>\n",
       "      <td>0.800121</td>\n",
       "      <td>0.182775</td>\n",
       "      <td>9.472639e-01</td>\n",
       "      <td>4.289383e-01</td>\n",
       "    </tr>\n",
       "    <tr>\n",
       "      <th>Curved</th>\n",
       "      <td>0.122331</td>\n",
       "      <td>0.800121</td>\n",
       "      <td>1.000000</td>\n",
       "      <td>0.045768</td>\n",
       "      <td>4.205243e-01</td>\n",
       "      <td>1.100356e-02</td>\n",
       "    </tr>\n",
       "    <tr>\n",
       "      <th>Oval</th>\n",
       "      <td>0.129414</td>\n",
       "      <td>0.182775</td>\n",
       "      <td>0.045768</td>\n",
       "      <td>1.000000</td>\n",
       "      <td>7.072808e-02</td>\n",
       "      <td>2.784402e-01</td>\n",
       "    </tr>\n",
       "    <tr>\n",
       "      <th>Rectangle</th>\n",
       "      <td>0.016380</td>\n",
       "      <td>0.947264</td>\n",
       "      <td>0.420524</td>\n",
       "      <td>0.070728</td>\n",
       "      <td>1.000000e+00</td>\n",
       "      <td>6.366588e-07</td>\n",
       "    </tr>\n",
       "    <tr>\n",
       "      <th>Square</th>\n",
       "      <td>0.000255</td>\n",
       "      <td>0.428938</td>\n",
       "      <td>0.011004</td>\n",
       "      <td>0.278440</td>\n",
       "      <td>6.366588e-07</td>\n",
       "      <td>1.000000e+00</td>\n",
       "    </tr>\n",
       "  </tbody>\n",
       "</table>\n",
       "</div>"
      ],
      "text/plain": [
       "                Circle  Contemporary    Curved      Oval     Rectangle  \\\n",
       "Circle        1.000000      0.715871  0.122331  0.129414  1.637974e-02   \n",
       "Contemporary  0.715871      1.000000  0.800121  0.182775  9.472639e-01   \n",
       "Curved        0.122331      0.800121  1.000000  0.045768  4.205243e-01   \n",
       "Oval          0.129414      0.182775  0.045768  1.000000  7.072808e-02   \n",
       "Rectangle     0.016380      0.947264  0.420524  0.070728  1.000000e+00   \n",
       "Square        0.000255      0.428938  0.011004  0.278440  6.366588e-07   \n",
       "\n",
       "                    Square  \n",
       "Circle        2.549663e-04  \n",
       "Contemporary  4.289383e-01  \n",
       "Curved        1.100356e-02  \n",
       "Oval          2.784402e-01  \n",
       "Rectangle     6.366588e-07  \n",
       "Square        1.000000e+00  "
      ]
     },
     "execution_count": 208,
     "metadata": {},
     "output_type": "execute_result"
    }
   ],
   "source": [
    "scikit_posthocs.posthoc_dunn(updatedData[['Dial Shape','Rating']],val_col='Rating',group_col='Dial Shape')"
   ]
  },
  {
   "cell_type": "markdown",
   "id": "f292630b",
   "metadata": {},
   "source": [
    "From above Dunn's test it is clear that \n",
    "pair( Circle, Rectangle),(Circle, Square),(curved, Oval), (Curved, Square) impacts the rating as their p value is very less than 0.05"
   ]
  },
  {
   "cell_type": "code",
   "execution_count": 64,
   "id": "9511c416",
   "metadata": {},
   "outputs": [
    {
     "data": {
      "text/html": [
       "<div>\n",
       "<style scoped>\n",
       "    .dataframe tbody tr th:only-of-type {\n",
       "        vertical-align: middle;\n",
       "    }\n",
       "\n",
       "    .dataframe tbody tr th {\n",
       "        vertical-align: top;\n",
       "    }\n",
       "\n",
       "    .dataframe thead th {\n",
       "        text-align: right;\n",
       "    }\n",
       "</style>\n",
       "<table border=\"1\" class=\"dataframe\">\n",
       "  <thead>\n",
       "    <tr style=\"text-align: right;\">\n",
       "      <th></th>\n",
       "      <th>Rating</th>\n",
       "    </tr>\n",
       "    <tr>\n",
       "      <th>Dial Shape</th>\n",
       "      <th></th>\n",
       "    </tr>\n",
       "  </thead>\n",
       "  <tbody>\n",
       "    <tr>\n",
       "      <th>Rectangle</th>\n",
       "      <td>4.204598</td>\n",
       "    </tr>\n",
       "    <tr>\n",
       "      <th>Contemporary</th>\n",
       "      <td>4.200000</td>\n",
       "    </tr>\n",
       "    <tr>\n",
       "      <th>Curved</th>\n",
       "      <td>4.150000</td>\n",
       "    </tr>\n",
       "    <tr>\n",
       "      <th>Circle</th>\n",
       "      <td>4.059055</td>\n",
       "    </tr>\n",
       "    <tr>\n",
       "      <th>Square</th>\n",
       "      <td>3.816832</td>\n",
       "    </tr>\n",
       "    <tr>\n",
       "      <th>Oval</th>\n",
       "      <td>3.100000</td>\n",
       "    </tr>\n",
       "  </tbody>\n",
       "</table>\n",
       "</div>"
      ],
      "text/plain": [
       "                Rating\n",
       "Dial Shape            \n",
       "Rectangle     4.204598\n",
       "Contemporary  4.200000\n",
       "Curved        4.150000\n",
       "Circle        4.059055\n",
       "Square        3.816832\n",
       "Oval          3.100000"
      ]
     },
     "execution_count": 64,
     "metadata": {},
     "output_type": "execute_result"
    }
   ],
   "source": [
    "pd.pivot_table(data =updatedData,values='Rating',index='Dial Shape').sort_values(by='Rating',ascending=False)"
   ]
  },
  {
   "cell_type": "markdown",
   "id": "7ea3f810",
   "metadata": {},
   "source": [
    "From above mean rating table with dial shape, it is clear rectangle and curved shape more likely to impact the rating while\n",
    "oval and square shape effects the rating negatively."
   ]
  },
  {
   "cell_type": "markdown",
   "id": "04b8293c",
   "metadata": {},
   "source": [
    "From above data and Dunn's test it is clear that "
   ]
  },
  {
   "cell_type": "markdown",
   "id": "7d82662a",
   "metadata": {},
   "source": [
    "### Brand"
   ]
  },
  {
   "cell_type": "code",
   "execution_count": 72,
   "id": "94e988ac",
   "metadata": {},
   "outputs": [
    {
     "data": {
      "text/plain": [
       "fire-boltt    60\n",
       "noise         43\n",
       "garmin        41\n",
       "pebble        33\n",
       "zebronics     33\n",
       "boat          32\n",
       "samsung       30\n",
       "apple         26\n",
       "dizo          25\n",
       "fossil        24\n",
       "gizmore       23\n",
       "fitbit        21\n",
       "huawei        15\n",
       "honor         14\n",
       "amazfit       14\n",
       "ambrane       11\n",
       "crossbeats     4\n",
       "hammer         1\n",
       "Name: Brand, dtype: int64"
      ]
     },
     "execution_count": 72,
     "metadata": {},
     "output_type": "execute_result"
    }
   ],
   "source": [
    "updatedData['Brand'].value_counts()"
   ]
  },
  {
   "cell_type": "code",
   "execution_count": 209,
   "id": "67ca299a",
   "metadata": {},
   "outputs": [],
   "source": [
    "listBoat= updatedData[updatedData['Brand']=='boat']['Rating']\n",
    "listNoise = updatedData[updatedData['Brand']=='noise']['Rating']\n",
    "listHonor= updatedData[updatedData['Brand']=='honor']['Rating']\n",
    "listCross = updatedData[updatedData['Brand']=='crossbeats']['Rating']\n",
    "listFire = updatedData[updatedData['Brand']=='fire-boltt']['Rating']\n",
    "listSamsung =updatedData[updatedData['Brand']=='samsung']['Rating']\n",
    "listGarmin=updatedData[updatedData['Brand']=='garmin']['Rating']\n",
    "listDizo =updatedData[updatedData['Brand']=='dizo']['Rating']\n",
    "listGiz =updatedData[updatedData['Brand']=='gizmore']['Rating']\n",
    "listAmb =updatedData[updatedData['Brand']=='ambrane']['Rating']\n",
    "listZeb =updatedData[updatedData['Brand']=='zebronics']['Rating']\n",
    "listPeb =updatedData[updatedData['Brand']=='pebble']['Rating']\n",
    "listHam =updatedData[updatedData['Brand']=='hammer']['Rating']\n",
    "listApp = updatedData[updatedData['Brand']=='apple']['Rating']\n",
    "listFit =updatedData[updatedData['Brand']=='fitbit']['Rating']\n",
    "listAma =updatedData[updatedData['Brand']=='amazfit']['Rating']\n",
    "listFoss= updatedData[updatedData['Brand']=='fossil']['Rating']\n",
    "listHua = updatedData[updatedData['Brand']=='huawei']['Rating']"
   ]
  },
  {
   "cell_type": "code",
   "execution_count": 210,
   "id": "76654c88",
   "metadata": {},
   "outputs": [
    {
     "data": {
      "text/plain": [
       "KruskalResult(statistic=175.75088978767272, pvalue=2.024160866431655e-28)"
      ]
     },
     "execution_count": 210,
     "metadata": {},
     "output_type": "execute_result"
    }
   ],
   "source": [
    "stats.kruskal(listBoat,\n",
    "              listNoise,\n",
    "              listHonor,\n",
    "              listCross,\n",
    "              listFire,\n",
    "              listSamsung,\n",
    "                listGarmin,\n",
    "              listDizo,\n",
    "              listGiz,\n",
    "              listAmb,\n",
    "              listZeb,\n",
    "              listPeb,\n",
    "              listHam,\n",
    "              listApp,\n",
    "              listFit,\n",
    "              listAma,\n",
    "              listFoss,\n",
    "              listHua)  # applying Kruskal wali test on the Brand"
   ]
  },
  {
   "cell_type": "markdown",
   "id": "9020ca42",
   "metadata": {},
   "source": [
    "p-value of test is very less , with more thann 99% confidence it is observed that brands impact the ratings"
   ]
  },
  {
   "cell_type": "markdown",
   "id": "71a1f4cd",
   "metadata": {},
   "source": [
    "### Rating vs Battery Life"
   ]
  },
  {
   "cell_type": "code",
   "execution_count": 129,
   "id": "2197c610",
   "metadata": {},
   "outputs": [
    {
     "data": {
      "text/html": [
       "<div>\n",
       "<style scoped>\n",
       "    .dataframe tbody tr th:only-of-type {\n",
       "        vertical-align: middle;\n",
       "    }\n",
       "\n",
       "    .dataframe tbody tr th {\n",
       "        vertical-align: top;\n",
       "    }\n",
       "\n",
       "    .dataframe thead th {\n",
       "        text-align: right;\n",
       "    }\n",
       "</style>\n",
       "<table border=\"1\" class=\"dataframe\">\n",
       "  <thead>\n",
       "    <tr style=\"text-align: right;\">\n",
       "      <th></th>\n",
       "      <th>Rating</th>\n",
       "      <th>Battery Life (Days)</th>\n",
       "    </tr>\n",
       "  </thead>\n",
       "  <tbody>\n",
       "    <tr>\n",
       "      <th>Rating</th>\n",
       "      <td>1.000000</td>\n",
       "      <td>-0.097279</td>\n",
       "    </tr>\n",
       "    <tr>\n",
       "      <th>Battery Life (Days)</th>\n",
       "      <td>-0.097279</td>\n",
       "      <td>1.000000</td>\n",
       "    </tr>\n",
       "  </tbody>\n",
       "</table>\n",
       "</div>"
      ],
      "text/plain": [
       "                       Rating  Battery Life (Days)\n",
       "Rating               1.000000            -0.097279\n",
       "Battery Life (Days) -0.097279             1.000000"
      ]
     },
     "execution_count": 129,
     "metadata": {},
     "output_type": "execute_result"
    }
   ],
   "source": [
    "updatedData[[\"Rating\",\"Battery Life (Days)\"]].corr()"
   ]
  },
  {
   "cell_type": "code",
   "execution_count": 134,
   "id": "3abd77f6",
   "metadata": {},
   "outputs": [
    {
     "data": {
      "image/png": "[encoded data removed]",
      "text/plain": [
       "<Figure size 720x360 with 1 Axes>"
      ]
     },
     "metadata": {
      "needs_background": "light"
     },
     "output_type": "display_data"
    }
   ],
   "source": [
    "plt.figure(figsize=(10,5))\n",
    "plt.title(\"Scatter Plot\")\n",
    "sns.scatterplot(x =updatedData[\"Rating\"],y= updatedData['Battery Life (Days)'])\n",
    "plt.show()"
   ]
  },
  {
   "cell_type": "markdown",
   "id": "baa7646e",
   "metadata": {},
   "source": [
    "Scatter plot and correlation conveys that there is negligible linear relation between rating and battery life"
   ]
  },
  {
   "cell_type": "code",
   "execution_count": 213,
   "id": "f0f5cbcd",
   "metadata": {},
   "outputs": [
    {
     "data": {
      "text/plain": [
       "SpearmanrResult(correlation=-0.0372676413237204, pvalue=0.4303217312814236)"
      ]
     },
     "execution_count": 213,
     "metadata": {},
     "output_type": "execute_result"
    }
   ],
   "source": [
    "stats.spearmanr(updatedData['Rating'],updatedData['Battery Life (Days)'])\n",
    "# applying non parametric test spearman to confirm whether are insights are correct or not"
   ]
  },
  {
   "cell_type": "markdown",
   "id": "7682a393",
   "metadata": {},
   "source": [
    "p value is very high (greater than 95%), we fail to reject null hypothesis, it conveys that Ratings and Battery Life \n",
    "does not possess any significant linear relationship."
   ]
  },
  {
   "cell_type": "code",
   "execution_count": 52,
   "id": "0ac3dbd1",
   "metadata": {},
   "outputs": [
    {
     "data": {
      "text/html": [
       "<div>\n",
       "<style scoped>\n",
       "    .dataframe tbody tr th:only-of-type {\n",
       "        vertical-align: middle;\n",
       "    }\n",
       "\n",
       "    .dataframe tbody tr th {\n",
       "        vertical-align: top;\n",
       "    }\n",
       "\n",
       "    .dataframe thead th {\n",
       "        text-align: right;\n",
       "    }\n",
       "</style>\n",
       "<table border=\"1\" class=\"dataframe\">\n",
       "  <thead>\n",
       "    <tr style=\"text-align: right;\">\n",
       "      <th></th>\n",
       "      <th>Display Size</th>\n",
       "      <th>Current Price</th>\n",
       "      <th>Original Price</th>\n",
       "      <th>Discount Percentage</th>\n",
       "      <th>Rating</th>\n",
       "      <th>Number OF Ratings</th>\n",
       "      <th>Battery Life (Days)</th>\n",
       "    </tr>\n",
       "  </thead>\n",
       "  <tbody>\n",
       "    <tr>\n",
       "      <th>Display Size</th>\n",
       "      <td>1.000000</td>\n",
       "      <td>-0.005116</td>\n",
       "      <td>0.003975</td>\n",
       "      <td>-0.018619</td>\n",
       "      <td>0.055914</td>\n",
       "      <td>-0.033428</td>\n",
       "      <td>0.022106</td>\n",
       "    </tr>\n",
       "    <tr>\n",
       "      <th>Current Price</th>\n",
       "      <td>-0.005116</td>\n",
       "      <td>1.000000</td>\n",
       "      <td>0.639679</td>\n",
       "      <td>-0.419858</td>\n",
       "      <td>0.385249</td>\n",
       "      <td>-0.127623</td>\n",
       "      <td>0.019945</td>\n",
       "    </tr>\n",
       "    <tr>\n",
       "      <th>Original Price</th>\n",
       "      <td>0.003975</td>\n",
       "      <td>0.639679</td>\n",
       "      <td>1.000000</td>\n",
       "      <td>-0.516275</td>\n",
       "      <td>0.246079</td>\n",
       "      <td>-0.103506</td>\n",
       "      <td>-0.115749</td>\n",
       "    </tr>\n",
       "    <tr>\n",
       "      <th>Discount Percentage</th>\n",
       "      <td>-0.018619</td>\n",
       "      <td>-0.419858</td>\n",
       "      <td>-0.516275</td>\n",
       "      <td>1.000000</td>\n",
       "      <td>-0.162623</td>\n",
       "      <td>0.182550</td>\n",
       "      <td>-0.000469</td>\n",
       "    </tr>\n",
       "    <tr>\n",
       "      <th>Rating</th>\n",
       "      <td>0.055914</td>\n",
       "      <td>0.385249</td>\n",
       "      <td>0.246079</td>\n",
       "      <td>-0.162623</td>\n",
       "      <td>1.000000</td>\n",
       "      <td>0.057164</td>\n",
       "      <td>-0.097279</td>\n",
       "    </tr>\n",
       "    <tr>\n",
       "      <th>Number OF Ratings</th>\n",
       "      <td>-0.033428</td>\n",
       "      <td>-0.127623</td>\n",
       "      <td>-0.103506</td>\n",
       "      <td>0.182550</td>\n",
       "      <td>0.057164</td>\n",
       "      <td>1.000000</td>\n",
       "      <td>0.027810</td>\n",
       "    </tr>\n",
       "    <tr>\n",
       "      <th>Battery Life (Days)</th>\n",
       "      <td>0.022106</td>\n",
       "      <td>0.019945</td>\n",
       "      <td>-0.115749</td>\n",
       "      <td>-0.000469</td>\n",
       "      <td>-0.097279</td>\n",
       "      <td>0.027810</td>\n",
       "      <td>1.000000</td>\n",
       "    </tr>\n",
       "  </tbody>\n",
       "</table>\n",
       "</div>"
      ],
      "text/plain": [
       "                     Display Size  Current Price  Original Price  \\\n",
       "Display Size             1.000000      -0.005116        0.003975   \n",
       "Current Price           -0.005116       1.000000        0.639679   \n",
       "Original Price           0.003975       0.639679        1.000000   \n",
       "Discount Percentage     -0.018619      -0.419858       -0.516275   \n",
       "Rating                   0.055914       0.385249        0.246079   \n",
       "Number OF Ratings       -0.033428      -0.127623       -0.103506   \n",
       "Battery Life (Days)      0.022106       0.019945       -0.115749   \n",
       "\n",
       "                     Discount Percentage    Rating  Number OF Ratings  \\\n",
       "Display Size                   -0.018619  0.055914          -0.033428   \n",
       "Current Price                  -0.419858  0.385249          -0.127623   \n",
       "Original Price                 -0.516275  0.246079          -0.103506   \n",
       "Discount Percentage             1.000000 -0.162623           0.182550   \n",
       "Rating                         -0.162623  1.000000           0.057164   \n",
       "Number OF Ratings               0.182550  0.057164           1.000000   \n",
       "Battery Life (Days)            -0.000469 -0.097279           0.027810   \n",
       "\n",
       "                     Battery Life (Days)  \n",
       "Display Size                    0.022106  \n",
       "Current Price                   0.019945  \n",
       "Original Price                 -0.115749  \n",
       "Discount Percentage            -0.000469  \n",
       "Rating                         -0.097279  \n",
       "Number OF Ratings               0.027810  \n",
       "Battery Life (Days)             1.000000  "
      ]
     },
     "execution_count": 52,
     "metadata": {},
     "output_type": "execute_result"
    }
   ],
   "source": [
    "updatedData.drop('Serial Number',axis =1).corr()"
   ]
  },
  {
   "cell_type": "code",
   "execution_count": 217,
   "id": "8ffe8862",
   "metadata": {},
   "outputs": [
    {
     "data": {
      "image/png": "[encoded data removed]",
      "text/plain": [
       "<Figure size 864x576 with 2 Axes>"
      ]
     },
     "metadata": {
      "needs_background": "light"
     },
     "output_type": "display_data"
    }
   ],
   "source": [
    "plt.figure(figsize=(12,8))\n",
    "plt.title(\"Heat map for the correlation\")\n",
    "sns.heatmap(updatedData.drop('Serial Number',axis =1).corr(),annot=True,cmap = 'coolwarm' )\n",
    "plt.xticks(rotation=90)\n",
    "plt.show()"
   ]
  },
  {
   "cell_type": "markdown",
   "id": "c0f60e96",
   "metadata": {},
   "source": [
    "From above it is clear that original and current price are highly correlated positively which is obvious as both follow linear relationship\n",
    "\n",
    "The other interesting fact is that  the curent price and original price  are midly correlated\n",
    "\n",
    "Discount and original Price of smart watches also show moderate negative correlation"
   ]
  },
  {
   "cell_type": "code",
   "execution_count": 140,
   "id": "52270377",
   "metadata": {},
   "outputs": [
    {
     "data": {
      "image/png": "[encoded data removed]",
      "text/plain": [
       "<Figure size 1260x1260 with 56 Axes>"
      ]
     },
     "metadata": {
      "needs_background": "light"
     },
     "output_type": "display_data"
    }
   ],
   "source": [
    "#plt.figure(figsize=(10,5))\n",
    "#plt.title(\"Pair Plot\")\n",
    "sns.pairplot(updatedData.drop('Serial Number', axis=1).select_dtypes(exclude =object))\n",
    "plt.show()"
   ]
  },
  {
   "cell_type": "markdown",
   "id": "3a0f826a",
   "metadata": {},
   "source": [
    "The pair plot conveys the data is not normally distrubeted , no strong correlation appear except discount, current price and origina price"
   ]
  },
  {
   "cell_type": "markdown",
   "id": "b932efad",
   "metadata": {},
   "source": [
    "### Rating vs Current Price"
   ]
  },
  {
   "cell_type": "code",
   "execution_count": 142,
   "id": "32f20d6c",
   "metadata": {},
   "outputs": [
    {
     "data": {
      "text/plain": [
       "SpearmanrResult(correlation=0.44996698543219854, pvalue=8.136829292480938e-24)"
      ]
     },
     "execution_count": 142,
     "metadata": {},
     "output_type": "execute_result"
    }
   ],
   "source": [
    "stats.spearmanr(updatedData['Rating'],updatedData['Current Price'])"
   ]
  },
  {
   "cell_type": "markdown",
   "id": "162da0ad",
   "metadata": {},
   "source": [
    "### Rating vs Discount Percentage"
   ]
  },
  {
   "cell_type": "code",
   "execution_count": 143,
   "id": "915dc677",
   "metadata": {},
   "outputs": [
    {
     "data": {
      "text/plain": [
       "SpearmanrResult(correlation=-0.22253788049922255, pvalue=1.865036794998734e-06)"
      ]
     },
     "execution_count": 143,
     "metadata": {},
     "output_type": "execute_result"
    }
   ],
   "source": [
    "stats.spearmanr(updatedData['Rating'],updatedData['Discount Percentage'])"
   ]
  },
  {
   "cell_type": "markdown",
   "id": "89e09452",
   "metadata": {},
   "source": [
    "### Rating vs Original Price"
   ]
  },
  {
   "cell_type": "code",
   "execution_count": 144,
   "id": "4ba8aa48",
   "metadata": {},
   "outputs": [
    {
     "data": {
      "text/plain": [
       "SpearmanrResult(correlation=0.31681422647008495, pvalue=5.986598851714032e-12)"
      ]
     },
     "execution_count": 144,
     "metadata": {},
     "output_type": "execute_result"
    }
   ],
   "source": [
    "stats.spearmanr(updatedData['Rating'],updatedData['Original Price'])"
   ]
  },
  {
   "cell_type": "markdown",
   "id": "5bd41ddb",
   "metadata": {},
   "source": [
    "The spearmant test of rating with current price, discount percentage and orginal price shows that p value is very less , we rejet null hypothesis and concludes that the current price, original price, and dicount impacts the rating\n",
    "\n",
    "All variable impacts ratings positively but current price impacts most compare to discount percentage and original price. "
   ]
  },
  {
   "cell_type": "markdown",
   "id": "96c189f7",
   "metadata": {},
   "source": [
    "# Conclusion"
   ]
  },
  {
   "cell_type": "markdown",
   "id": "c9330462",
   "metadata": {},
   "source": [
    "From above anlysis of smart watches several key points were observed that are mentioned below.\n",
    "\n",
    "\n",
    "Brands like Apple, Ambrane, fitbit Huawei provides posses very good rating\n",
    "while rating of zebronics, fire-bolt, is very less.\n",
    "\n",
    "While comparing battery life brand like Apple, Ambrane, Garmin, Dizo lies \n",
    "at the top while Samsung, fitbit, Gizmorea and Hammer perform poor.\n",
    "\n",
    "Touchscreen and Bluetooth feature impacts the rating of the watch.\n",
    "People are more likely to rate the watches very good if the touchscreen and Bluetooth\n",
    "feature is not there in the watch. \n",
    "\n",
    "The data of rating is not distribute normally, so preferred non parametric method \n",
    "to investigate further about the data \n",
    "\n",
    "From Kruskal test it is observed that dial shape impacts rating. Post hoc analysis\n",
    "using Dunn's test proves that the rectangle over circular, circular over square,\n",
    "curved over oval, curved over square dial are more likely to rate higher by the end user.\n",
    "In other words Rectangle and Curved shape effects the rating postivily.\n",
    "\n",
    "Further investing via Kruskal test about the brand confirms ratings vary with brand. \n",
    "\n",
    "Spearman test confirms that rating and battery life is not related linearly\n",
    ". However, ratings are impacted by the current price positively which conveys higher price is linked to good rating"
   ]
  },
  {
   "cell_type": "code",
   "execution_count": null,
   "id": "a9d50daf",
   "metadata": {},
   "outputs": [],
   "source": []
  }
 ],
 "metadata": {
  "kernelspec": {
   "display_name": "Python 3 (ipykernel)",
   "language": "python",
   "name": "python3"
  },
  "language_info": {
   "codemirror_mode": {
    "name": "ipython",
    "version": 3
   },
   "file_extension": ".py",
   "mimetype": "text/x-python",
   "name": "python",
   "nbconvert_exporter": "python",
   "pygments_lexer": "ipython3",
   "version": "3.8.8"
  }
 },
 "nbformat": 4,
 "nbformat_minor": 5
}
